{
 "cells": [
  {
   "cell_type": "code",
   "execution_count": 1,
   "metadata": {},
   "outputs": [],
   "source": [
    "#from datetime import datetime\n",
    "#!pip install elasticsearch --user\n",
    "from elasticsearch import Elasticsearch\n",
    "#!pip install python-greeklish --user\n",
    "from greeklish.converter import Converter\n",
    "import pandas as pd\n",
    "\n",
    "from ipywidgets import interact, Dropdown, Text # front end widgets "
   ]
  },
  {
   "cell_type": "code",
   "execution_count": 2,
   "metadata": {},
   "outputs": [],
   "source": [
    "# read the dataset that is created every day\n",
    "#df_products = pd.read_pickle('/home/ubuntu/Spitishop/Spitishop_RE/search_products_api.pkl')\n",
    "df_products = pd.read_pickle(\"data/df_products_new.pkl\")\n",
    "\n",
    "df_products.columns = ['Code', 'Price', 'title_init', \n",
    "                       'title_eng', 'Category', 'Popularity',\n",
    "                       'categories', 'categories_text', 'categ_eng', \n",
    "                       'attributes','attributes_text', 'attr_eng', \n",
    "                       'brand_name', 'reference']\n",
    "\n",
    "\n",
    "products_search = df_products.copy()"
   ]
  },
  {
   "cell_type": "markdown",
   "metadata": {},
   "source": [
    "## -- Create a new elastic search index with the new dataset"
   ]
  },
  {
   "cell_type": "code",
   "execution_count": 3,
   "metadata": {},
   "outputs": [],
   "source": [
    "products = df_products[['title_eng', 'title_init', 'Price', \n",
    "                        'Category', 'Code', 'Popularity', \n",
    "                        'categ_eng', 'attr_eng', 'reference']].to_dict('records')"
   ]
  },
  {
   "cell_type": "code",
   "execution_count": 4,
   "metadata": {},
   "outputs": [
    {
     "name": "stdout",
     "output_type": "stream",
     "text": [
      "- Connected\n"
     ]
    }
   ],
   "source": [
    "# connect to elasticsearch / create an Elasticsearch object\n",
    "def connect_elasticsearch():\n",
    "    _es = None\n",
    "    _es = Elasticsearch()\n",
    "    if _es.ping():\n",
    "        print('- Connected')\n",
    "    else:\n",
    "        print('- Cannot connect to ElasticSearch')\n",
    "    return _es\n",
    "\n",
    "es = connect_elasticsearch()"
   ]
  },
  {
   "cell_type": "code",
   "execution_count": 5,
   "metadata": {},
   "outputs": [
    {
     "data": {
      "text/plain": [
       "{'acknowledged': True}"
      ]
     },
     "execution_count": 5,
     "metadata": {},
     "output_type": "execute_result"
    }
   ],
   "source": [
    "## delete the index\n",
    "es.indices.delete(index='spitishop_testing', ignore=[400, 404])"
   ]
  },
  {
   "cell_type": "code",
   "execution_count": 6,
   "metadata": {},
   "outputs": [],
   "source": [
    "# the index creation in ES is similar to the DB building in RDBMS\n",
    "# a database named spitishop_testing is created \n",
    "# http://localhost:9200/spitishop_testing\n",
    "def create_index(es_object, index_name='spitishop_testing'):\n",
    "\n",
    "    # https://www.elastic.co/guide/en/elasticsearch/reference/current/analysis-synonym-tokenfilter.html\n",
    "    settings = {\n",
    "                \"settings\": {\n",
    "                    \"index\" : {\n",
    "                        \"analysis\" : {\n",
    "                            \"analyzer\" : {\n",
    "                                \"my_analyzer\" : {\n",
    "                                    \"tokenizer\" : \"standard\",\n",
    "                                    \"filter\" : [\"my_stop\", \"synonym\"]\n",
    "                                }\n",
    "                            },\n",
    "                            \"filter\" : {\n",
    "                                \"my_stop\": {\n",
    "                                    \"type\" : \"stop\",\n",
    "                                    \"stopwords\": [\"to\", \"kai\"]\n",
    "                                },\n",
    "                                \"synonym\" : {\n",
    "                                    \"type\" : \"synonym\",\n",
    "                                    \"lenient\": True,\n",
    "                                    \"synonyms\" : [\"ypnodomatio, bedroom => krebatokamara\"]\n",
    "                                }\n",
    "                            }\n",
    "                        }\n",
    "                    }\n",
    "                },\n",
    "            }\n",
    "    \n",
    "    try:\n",
    "        #if not es_object.indices.exists(index_name):\n",
    "        # Ignore 400 means to ignore \"Index Already Exist\" error.\n",
    "        es_object.indices.create(index=index_name, ignore=400, **settings)\n",
    "        print('Created Index')\n",
    "    except Exception as ex:\n",
    "        print('Error: ', str(ex))"
   ]
  },
  {
   "cell_type": "code",
   "execution_count": 7,
   "metadata": {},
   "outputs": [
    {
     "name": "stdout",
     "output_type": "stream",
     "text": [
      "Created Index\n"
     ]
    }
   ],
   "source": [
    "create_index(es, 'spitishop_testing')"
   ]
  },
  {
   "cell_type": "code",
   "execution_count": 8,
   "metadata": {},
   "outputs": [
    {
     "name": "stdout",
     "output_type": "stream",
     "text": [
      "Wall time: 7min 1s\n"
     ]
    }
   ],
   "source": [
    "%%time\n",
    "\n",
    "# add products to the index\n",
    "for i, product in enumerate(products[0:]):\n",
    "    es.index(index='spitishop_testing',\n",
    "             id=i,\n",
    "             document=product,\n",
    "            )\n"
   ]
  },
  {
   "cell_type": "code",
   "execution_count": 17,
   "metadata": {},
   "outputs": [
    {
     "name": "stdout",
     "output_type": "stream",
     "text": [
      "29222\n"
     ]
    }
   ],
   "source": [
    "print(i)"
   ]
  },
  {
   "cell_type": "code",
   "execution_count": 9,
   "metadata": {},
   "outputs": [],
   "source": [
    "#http://localhost:9200/spitishop_testing/product/_search?q=5205495445618\n",
    "def get_results_spitishop(query, category,exact=False):\n",
    "    return_size = 5\n",
    "    try:\n",
    "        # first check the case that the query is just a reference id of a specific number \n",
    "        # if the query is the reference number, we need the exact match\n",
    "        df_product = products_search[products_search.reference==query]\n",
    "        if len(df_product)>0:\n",
    "            #print('-- The product code was found')\n",
    "            df_product = df_product[['Code', 'freq']]\n",
    "            df_product['score'] = 1\n",
    "            df_product.columns = ['Code', 'Popularity', 'score']\n",
    "            results = df_product.to_dict('records')\n",
    "\n",
    "            return results, 'elastic search'   \n",
    "\n",
    "        # convert the query to lowercase and some letters based on greek_letters_dict\n",
    "        greek_letters_dict = {'ω':'ο'}\n",
    "        query = query.lower().translate(str.maketrans(greek_letters_dict))\n",
    "        # convert it to greeklish\n",
    "        # create an object for greeklish translation\n",
    "        conv = Converter(max_expansions=1)\n",
    "        query = conv.convert(query)[0]\n",
    "\n",
    "        # search_flag defines whether the results are procuced by elasticsearch or based on popularity\n",
    "        search_flag = 0 \n",
    "\n",
    "        # search the index based on the query    \n",
    "        if category=='All':\n",
    "            if exact == True:\n",
    "                print(\"Exact match\")\n",
    "                # search the index based on the query\n",
    "                results = es.search(index='spitishop_testing', size=return_size, **{\n",
    "\n",
    "                          \"query\": {\n",
    "                            \"match\": {\n",
    "                              \"title_eng\": {  \n",
    "                                \"query\": query,\n",
    "                                \"operator\":\"AND\"\n",
    "                              }\n",
    "                            }\n",
    "                          }\n",
    "                                                                      })\n",
    "\n",
    "\n",
    "                # if no results are found, return nothing\n",
    "                if len(results['hits']['hits'][0:])==0:\n",
    "                    return 'No match'\n",
    "\n",
    "            else:    \n",
    "                # search the index based on the query\n",
    "                # search the query inside 'title_eng', 'categ_eng' & 'attr_eng' and give different boost in each field\n",
    "                # https://www.elastic.co/guide/en/elasticsearch/guide/current/multi-query-strings.html\n",
    "                results = es.search(index='spitishop_testing',size=return_size, **{\n",
    "\n",
    "                  \"query\": {\n",
    "                    \"bool\": {\n",
    "                      \"should\": [\n",
    "                        { \"match\": { \n",
    "                            \"title_eng\":  {\n",
    "                              \"query\": query,\n",
    "                              \"fuzziness\": \"AUTO:3,5\",\n",
    "                              \"analyzer\": \"my_analyzer\",  \n",
    "                              \"boost\": 9\n",
    "                        }}},\n",
    "                        { \"match\": { \n",
    "                            \"categ_eng\":  {\n",
    "                              \"query\": query,\n",
    "                              \"fuzziness\": \"AUTO:3,5\",\n",
    "                              \"analyzer\": \"my_analyzer\",                             \n",
    "                              \"boost\": 2\n",
    "                        }}},\n",
    "                        { \"match\": { \n",
    "                            \"attr_eng\":  {\n",
    "                              \"query\": query,\n",
    "                              \"fuzziness\": \"AUTO:3,5\",\n",
    "                              \"analyzer\": \"my_analyzer\",                            \n",
    "                              \"boost\": 1\n",
    "                        }}},\n",
    "                      ]\n",
    "                    }\n",
    "                  }                                                                   \n",
    "                },                  \n",
    "                                   )\n",
    "        else: # if category != All\n",
    "            results = es.search(index='spitishop_testing', size=return_size, **{\n",
    "                'query':{\n",
    "                    'bool': {\n",
    "                      'must': [\n",
    "                                    {'match':{'title_eng':{\"query\" : query,\n",
    "                                                           \"fuzziness\": \"AUTO:3,5\", # https://www.elastic.co/guide/en/elasticsearch/reference/current/common-options.html#fuzziness\n",
    "                                                           #\"fuzziness\": 2,\n",
    "                                                           #\"fuzzy_transpositions\":False,\n",
    "                                                            \"analyzer\": \"my_analyzer\"\n",
    "\n",
    "                                                          }}},\n",
    "                                    {'match': {'Category': category}},\n",
    "                               ],\n",
    "        #                   \"filter\": [ \n",
    "        #                                 {\"term\":{\"Category\":category}},\n",
    "        #                             ]\n",
    "\n",
    "                    }\n",
    "                }\n",
    "            },                  \n",
    "                               )\n",
    "\n",
    "        # list of results\n",
    "        res = results['hits']['hits'][0:]\n",
    "\n",
    "        # if the search query doesnt have results in the specified category, then check in all categories\n",
    "        if (len(res)==0) & (category!='All'):\n",
    "            print(' - Searching regardless the specified category')\n",
    "            results = es.search(index='spitishop_testing', size=return_size, **{\n",
    "                'query':{\n",
    "                    'bool': {\n",
    "                      'must': [\n",
    "                                    {'match':{'title_eng':{\"query\" : query,\n",
    "                                                           \"fuzziness\": \"AUTO:3,5\", # https://www.elastic.co/guide/en/elasticsearch/reference/current/common-options.html#fuzziness\n",
    "                                                           #\"fuzziness\": 2,\n",
    "                                                           #\"fuzzy_transpositions\":False,\n",
    "                                                            \"analyzer\": \"my_analyzer\"\n",
    "\n",
    "                                                          }}},\n",
    "                                    #{'match': {'Category': category}},\n",
    "                               ],\n",
    "        #                   \"filter\": [ \n",
    "        #                                 {\"term\":{\"Category\":category}},\n",
    "        #                             ]\n",
    "\n",
    "                    }\n",
    "                }\n",
    "            },                  \n",
    "                               )\n",
    "            res = results['hits']['hits'][0:]\n",
    "\n",
    "        results = []\n",
    "        for i in range(len(res)):\n",
    "            #print(res[i]['_source']['title_init']+' - ', res[i]['_source']['Price'])\n",
    "            result = res[i]\n",
    "\n",
    "            results.append({\n",
    "                'Code':result['_source']['Code'],\n",
    "                'Product_name':result['_source']['title_init'],\n",
    "                           'title_eng':result['_source']['title_eng'],\n",
    "                            #'Category':result['_source']['Category'],\n",
    "                            #'Price':result['_source']['Price'],\n",
    "                            'score':result['_score'],\n",
    "                            #'img_url':result['_source']['img_url'],\n",
    "                            #'Url':result['_source']['url'],\n",
    "                            'Popularity':result['_source']['Popularity'],\n",
    "                            'categories':result['_source']['categ_eng'],\n",
    "                            'attributes':result['_source']['attr_eng'],\n",
    "                           })\n",
    "\n",
    "        df_results = pd.DataFrame(results)\n",
    "\n",
    "        if len(df_results) > 0:\n",
    "            # convert list of dicts to pandas dataframe \n",
    "            #df_results = pd.DataFrame(results)\n",
    "\n",
    "            # keep only results with relevance score higher that 4\n",
    "            #df_results = df_results[df_results.score>4]\n",
    "\n",
    "            # sort results based on relevance and Price/popularity\n",
    "            df_results = df_results.sort_values(by=['score', 'Popularity'], ascending=[False, False])\n",
    "\n",
    "            # search_flag defines whether the results are procuced by elasticsearch or based on popularity\n",
    "            search_flag = 'elastic search'\n",
    "\n",
    "        if len(df_results) == 0:\n",
    "            #print('- No results were returned via elasticsearch. So, return popular products.')\n",
    "            df_results = products_search.sort_values(by=['freq'], ascending=[False]).head(10)\n",
    "            df_results = df_results[['Code', 'freq']]\n",
    "            df_results['score'] = 0\n",
    "            df_results.columns = ['Code', 'Popularity', 'score']\n",
    "\n",
    "            # set the flag==1 - the resutls are produced based on popularity\n",
    "            search_flag = 'popularity'\n",
    "\n",
    "        results = df_results.to_dict('records')\n",
    "\n",
    "        #     results2 = []\n",
    "        #     for i in range(200):\n",
    "        #         results2.append(results[i*5:5+(i*5)])\n",
    "\n",
    "        return results, search_flag\n",
    "    except:\n",
    "        pass"
   ]
  },
  {
   "cell_type": "code",
   "execution_count": 10,
   "metadata": {},
   "outputs": [],
   "source": [
    "# result = es.search(\n",
    "#     index=\"spitishop_testing\",\n",
    "#     **{\"query\": {\"match_all\": {}}})"
   ]
  },
  {
   "cell_type": "code",
   "execution_count": 11,
   "metadata": {},
   "outputs": [],
   "source": [
    "# Pass the query dictionary to the 'body' parameter of the\n",
    "# client's Search() method, and have it return results:\n",
    "\n",
    "# result = es.search(index=\"spitishop_testing\",\n",
    "#                    **{\"query\": {\"bool\": {\"must\": {\"match\": {\n",
    "#                        \"title_eng\": 'mpournouzi'}}}}}, size=10)"
   ]
  },
  {
   "cell_type": "code",
   "execution_count": 12,
   "metadata": {},
   "outputs": [],
   "source": [
    "# result['hits']['hits'][0:]"
   ]
  },
  {
   "cell_type": "code",
   "execution_count": 13,
   "metadata": {},
   "outputs": [],
   "source": [
    "category_list=products_search.Category.unique().tolist()\n",
    "category_list.append('All')\n",
    "category_list.sort()"
   ]
  },
  {
   "cell_type": "code",
   "execution_count": 14,
   "metadata": {},
   "outputs": [],
   "source": [
    "chosen_category=Dropdown(\n",
    "    options=category_list,\n",
    "    value='All',\n",
    "    description='Κατηγορία:',\n",
    ")"
   ]
  },
  {
   "cell_type": "code",
   "execution_count": 15,
   "metadata": {},
   "outputs": [],
   "source": [
    "search_term=Text(\n",
    "  # value='Αναζήτηση...',\n",
    "    placeholder='Αναζήτηση...',\n",
    "    description='Προϊόν:',\n",
    "    disabled=False\n",
    ")"
   ]
  },
  {
   "cell_type": "code",
   "execution_count": 16,
   "metadata": {},
   "outputs": [
    {
     "data": {
      "application/vnd.jupyter.widget-view+json": {
       "model_id": "371493ee65d44a2288fb5220d263355e",
       "version_major": 2,
       "version_minor": 0
      },
      "text/plain": [
       "interactive(children=(Text(value='', description='Προϊόν:', placeholder='Αναζήτηση...'), Dropdown(description=…"
      ]
     },
     "metadata": {},
     "output_type": "display_data"
    }
   ],
   "source": [
    "interact(get_results_spitishop, query= search_term, category=chosen_category);"
   ]
  },
  {
   "cell_type": "code",
   "execution_count": 18,
   "metadata": {},
   "outputs": [],
   "source": [
    "fwtis = {'title_eng': 'Fwtis extend company',\n",
    " 'title_init': '',\n",
    " 'Price': 100.0,\n",
    " 'Category': 'Εταιρεία',\n",
    " 'Code': 12345,\n",
    " 'Popularity': 10.0,\n",
    " 'categ_eng': 'IT',\n",
    " 'attr_eng': 'Extend',\n",
    " 'reference': 'H.1300616'}"
   ]
  },
  {
   "cell_type": "code",
   "execution_count": 19,
   "metadata": {},
   "outputs": [],
   "source": [
    "resp = es.index(index='spitishop_testing',\n",
    "                id=29223,\n",
    "                document=fwtis,\n",
    "               )"
   ]
  },
  {
   "cell_type": "code",
   "execution_count": 20,
   "metadata": {},
   "outputs": [],
   "source": [
    "resp = es.update(index='spitishop_testing',\n",
    "                id=29223,\n",
    "                doc={'title_eng': 'Fwtis SLEED company', 'attr_eng': 'SLEED'},\n",
    "               )"
   ]
  },
  {
   "cell_type": "code",
   "execution_count": 21,
   "metadata": {},
   "outputs": [],
   "source": [
    "resp = es.delete(index='spitishop_testing',\n",
    "                id=29223)"
   ]
  },
  {
   "cell_type": "code",
   "execution_count": null,
   "metadata": {},
   "outputs": [],
   "source": []
  }
 ],
 "metadata": {
  "kernelspec": {
   "display_name": "Python 3",
   "language": "python",
   "name": "python3"
  },
  "language_info": {
   "codemirror_mode": {
    "name": "ipython",
    "version": 3
   },
   "file_extension": ".py",
   "mimetype": "text/x-python",
   "name": "python",
   "nbconvert_exporter": "python",
   "pygments_lexer": "ipython3",
   "version": "3.8.11"
  },
  "varInspector": {
   "cols": {
    "lenName": 16,
    "lenType": 16,
    "lenVar": 40
   },
   "kernels_config": {
    "python": {
     "delete_cmd_postfix": "",
     "delete_cmd_prefix": "del ",
     "library": "var_list.py",
     "varRefreshCmd": "print(var_dic_list())"
    },
    "r": {
     "delete_cmd_postfix": ") ",
     "delete_cmd_prefix": "rm(",
     "library": "var_list.r",
     "varRefreshCmd": "cat(var_dic_list()) "
    }
   },
   "types_to_exclude": [
    "module",
    "function",
    "builtin_function_or_method",
    "instance",
    "_Feature"
   ],
   "window_display": false
  }
 },
 "nbformat": 4,
 "nbformat_minor": 2
}
