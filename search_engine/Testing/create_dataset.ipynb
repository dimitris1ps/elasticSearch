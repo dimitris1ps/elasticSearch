{
 "cells": [
  {
   "cell_type": "code",
   "execution_count": 3,
   "metadata": {},
   "outputs": [],
   "source": [
    "import pandas as pd"
   ]
  },
  {
   "cell_type": "markdown",
   "metadata": {},
   "source": [
    "## - Check the dataset that is created now"
   ]
  },
  {
   "cell_type": "code",
   "execution_count": 2,
   "metadata": {},
   "outputs": [],
   "source": [
    "# read the dataset that is created every day\n",
    "df_products = pd.read_pickle('/home/ubuntu/Spitishop/Spitishop_RE/search_products_api.pkl')"
   ]
  },
  {
   "cell_type": "code",
   "execution_count": 3,
   "metadata": {},
   "outputs": [
    {
     "data": {
      "text/html": [
       "<div>\n",
       "<style scoped>\n",
       "    .dataframe tbody tr th:only-of-type {\n",
       "        vertical-align: middle;\n",
       "    }\n",
       "\n",
       "    .dataframe tbody tr th {\n",
       "        vertical-align: top;\n",
       "    }\n",
       "\n",
       "    .dataframe thead th {\n",
       "        text-align: right;\n",
       "    }\n",
       "</style>\n",
       "<table border=\"1\" class=\"dataframe\">\n",
       "  <thead>\n",
       "    <tr style=\"text-align: right;\">\n",
       "      <th></th>\n",
       "      <th>Code</th>\n",
       "      <th>Price</th>\n",
       "      <th>Product_name</th>\n",
       "      <th>Product_name_eng</th>\n",
       "      <th>name</th>\n",
       "      <th>freq</th>\n",
       "      <th>categories</th>\n",
       "      <th>categories_text</th>\n",
       "      <th>categories_text_eng</th>\n",
       "      <th>attributes</th>\n",
       "      <th>attributes_text</th>\n",
       "      <th>attributes_text_eng</th>\n",
       "      <th>brand_name</th>\n",
       "    </tr>\n",
       "  </thead>\n",
       "  <tbody>\n",
       "    <tr>\n",
       "      <th>0</th>\n",
       "      <td>29415</td>\n",
       "      <td>85.0</td>\n",
       "      <td>Πάπλωμα Κούνιας Πουπουλένιο Guy Laroche Bebe 100%</td>\n",
       "      <td>paploma kounias poupoulenio guy laroche bebe 100%</td>\n",
       "      <td>Βρεφικά</td>\n",
       "      <td>8.0</td>\n",
       "      <td>[Βρεφικά, Παπλώματα Βρεφικά]</td>\n",
       "      <td>Βρεφικά Παπλώματα Βρεφικά</td>\n",
       "      <td>brefika paplwmata brefika</td>\n",
       "      <td>NaN</td>\n",
       "      <td>Guy Laroche</td>\n",
       "      <td>guy laroche</td>\n",
       "      <td>Guy Laroche</td>\n",
       "    </tr>\n",
       "    <tr>\n",
       "      <th>2</th>\n",
       "      <td>29609</td>\n",
       "      <td>10.0</td>\n",
       "      <td>Διακοσμητική Μαξιλαροθήκη (40x40) Guy Laroche ...</td>\n",
       "      <td>diakosmhtikh maxilarothhkh (40x40) guy laroche...</td>\n",
       "      <td>Σαλόνι</td>\n",
       "      <td>4.0</td>\n",
       "      <td>[Σαλόνι, Διακοσμητικά Μαξιλάρια]</td>\n",
       "      <td>Σαλόνι Διακοσμητικά Μαξιλάρια</td>\n",
       "      <td>saloni diakosmhtika maxilaria</td>\n",
       "      <td>NaN</td>\n",
       "      <td>Guy Laroche</td>\n",
       "      <td>guy laroche</td>\n",
       "      <td>Guy Laroche</td>\n",
       "    </tr>\n",
       "  </tbody>\n",
       "</table>\n",
       "</div>"
      ],
      "text/plain": [
       "    Code  Price                                       Product_name  \\\n",
       "0  29415   85.0  Πάπλωμα Κούνιας Πουπουλένιο Guy Laroche Bebe 100%   \n",
       "2  29609   10.0  Διακοσμητική Μαξιλαροθήκη (40x40) Guy Laroche ...   \n",
       "\n",
       "                                    Product_name_eng     name  freq  \\\n",
       "0  paploma kounias poupoulenio guy laroche bebe 100%  Βρεφικά   8.0   \n",
       "2  diakosmhtikh maxilarothhkh (40x40) guy laroche...   Σαλόνι   4.0   \n",
       "\n",
       "                         categories                categories_text  \\\n",
       "0      [Βρεφικά, Παπλώματα Βρεφικά]      Βρεφικά Παπλώματα Βρεφικά   \n",
       "2  [Σαλόνι, Διακοσμητικά Μαξιλάρια]  Σαλόνι Διακοσμητικά Μαξιλάρια   \n",
       "\n",
       "             categories_text_eng attributes attributes_text  \\\n",
       "0      brefika paplwmata brefika        NaN   Guy Laroche     \n",
       "2  saloni diakosmhtika maxilaria        NaN   Guy Laroche     \n",
       "\n",
       "  attributes_text_eng   brand_name  \n",
       "0       guy laroche    Guy Laroche  \n",
       "2       guy laroche    Guy Laroche  "
      ]
     },
     "execution_count": 3,
     "metadata": {},
     "output_type": "execute_result"
    }
   ],
   "source": [
    "df_products.head(2)"
   ]
  },
  {
   "cell_type": "markdown",
   "metadata": {},
   "source": [
    "## - The process to create the dataset"
   ]
  },
  {
   "cell_type": "code",
   "execution_count": 4,
   "metadata": {},
   "outputs": [],
   "source": [
    "# Import libraries\n",
    "import MySQLdb\n",
    "import pandas as pd\n",
    "import datetime\n",
    "import os\n",
    "\n",
    "#!pip install elasticsearch --user\n",
    "from elasticsearch import Elasticsearch\n",
    "#!pip install python-greeklish --user\n",
    "from greeklish.converter import Converter"
   ]
  },
  {
   "cell_type": "code",
   "execution_count": 5,
   "metadata": {},
   "outputs": [],
   "source": [
    "# define some global greek text rules\n",
    "\n",
    "# create a dict for some greek letters matching\n",
    "greek_letters_dict = {'ω':'ο'}\n",
    "# create an object for greeklish translation\n",
    "conv = Converter(max_expansions=1)"
   ]
  },
  {
   "cell_type": "code",
   "execution_count": 24,
   "metadata": {},
   "outputs": [
    {
     "name": "stdout",
     "output_type": "stream",
     "text": [
      "Running products_search.py  2020-09-23 15:26:34.729079\n",
      "Fetching data\n",
      "Data fetched\n"
     ]
    }
   ],
   "source": [
    "print(\"Running products_search.py \", str(datetime.datetime.now()))\n",
    "\n",
    "# read the password\n",
    "p = pd.read_csv('/home/ubuntu/Spitishop/Spitishop_RE/p.txt', sep=\" \", header=None).iloc[0,0]\n",
    "\n",
    "print(\"Fetching data\")\n",
    "# connect to database\n",
    "conn = MySQLdb.connect(\"195.201.212.160\",\"infilab\",p,\"spitishop_redesign_2019\", charset='utf8')\n",
    "\n",
    "# Read the table with the category names\n",
    "df_ps_category_lang = pd.read_sql(\"select * from ps_category_lang where id_lang=2 and id_shop=1\", conn)\n",
    "\n",
    "# read table with the product links\n",
    "df_ps_product_lang = pd.read_sql(\"select id_product, name from ps_product_lang\", conn)\n",
    "\n",
    "# read the table with the categories of each product\n",
    "df_ps_category_product = pd.read_sql(\"select * from ps_category_product\", conn)\n",
    "\n",
    "# df_ps_attribute = pd.read_sql(\"select * from ps_attribute\", conn)\n",
    "# df_ps_attribute_group = pd.read_sql(\"select * from ps_attribute_group\", conn)\n",
    "# df_ps_attribute_group_lang = pd.read_sql(\"select * from ps_attribute_group_lang\", conn)\n",
    "df_ps_attribute_lang= pd.read_sql(\"select * from ps_attribute_lang where id_lang=2\", conn) #!\n",
    "\n",
    "\n",
    "df_ps_product_attribute= pd.read_sql(\"select * from ps_product_attribute\", conn) #!\n",
    "df_ps_product_attribute_combination= pd.read_sql(\"select * from ps_product_attribute_combination\", conn) #!\n",
    "#df_ps_product_attribute_image= pd.read_sql(\"select * from ps_product_attribute_image\", conn)\n",
    "#df_ps_product_attribute_shop= pd.read_sql(\"select * from ps_product_attribute_shop\", conn)\n",
    "\n",
    "# read the manufacturer of each product\n",
    "df_ps_product = pd.read_sql(\"select id_product, id_manufacturer, reference from ps_product\", conn)\n",
    "\n",
    "# read the manufacturer names\n",
    "df_ps_manufacturers = pd.read_sql(\"select * from ps_manufacturer\", conn)\n",
    "\n",
    "#df_tables = pd.read_sql(\"show tables\", conn)\n",
    "\n",
    "# Close connection\n",
    "conn.close()\n",
    "\n",
    "print(\"Data fetched\")\n",
    "\n",
    "\n",
    "# read the dataset with the products\n",
    "products = pd.read_pickle('/home/ubuntu/Spitishop/Spitishop_RE/products_api.pkl')"
   ]
  },
  {
   "cell_type": "code",
   "execution_count": 40,
   "metadata": {},
   "outputs": [],
   "source": [
    "products = pd.read_pickle('/home/ubuntu/Spitishop/Spitishop_RE/products_api.pkl')"
   ]
  },
  {
   "cell_type": "code",
   "execution_count": 41,
   "metadata": {},
   "outputs": [
    {
     "data": {
      "text/html": [
       "<div>\n",
       "<style scoped>\n",
       "    .dataframe tbody tr th:only-of-type {\n",
       "        vertical-align: middle;\n",
       "    }\n",
       "\n",
       "    .dataframe tbody tr th {\n",
       "        vertical-align: top;\n",
       "    }\n",
       "\n",
       "    .dataframe thead th {\n",
       "        text-align: right;\n",
       "    }\n",
       "</style>\n",
       "<table border=\"1\" class=\"dataframe\">\n",
       "  <thead>\n",
       "    <tr style=\"text-align: right;\">\n",
       "      <th></th>\n",
       "      <th>id_product</th>\n",
       "      <th>id_category_default</th>\n",
       "      <th>seasonality</th>\n",
       "      <th>price</th>\n",
       "      <th>id_category_1</th>\n",
       "      <th>id_category_2</th>\n",
       "      <th>id_category_3</th>\n",
       "      <th>id_category_4</th>\n",
       "      <th>categories</th>\n",
       "      <th>freq</th>\n",
       "    </tr>\n",
       "  </thead>\n",
       "  <tbody>\n",
       "    <tr>\n",
       "      <th>0</th>\n",
       "      <td>29415</td>\n",
       "      <td>200030.0</td>\n",
       "      <td>[3, 4]</td>\n",
       "      <td>85.000000</td>\n",
       "      <td>NaN</td>\n",
       "      <td>1004.0</td>\n",
       "      <td>200030.0</td>\n",
       "      <td>NaN</td>\n",
       "      <td>[1004, 200030.0]</td>\n",
       "      <td>8.0</td>\n",
       "    </tr>\n",
       "    <tr>\n",
       "      <th>1</th>\n",
       "      <td>29609</td>\n",
       "      <td>5000211.0</td>\n",
       "      <td>[]</td>\n",
       "      <td>10.000000</td>\n",
       "      <td>NaN</td>\n",
       "      <td>1001.0</td>\n",
       "      <td>5000211.0</td>\n",
       "      <td>NaN</td>\n",
       "      <td>[1001, 5000211.0]</td>\n",
       "      <td>4.0</td>\n",
       "    </tr>\n",
       "    <tr>\n",
       "      <th>2</th>\n",
       "      <td>29611</td>\n",
       "      <td>5000211.0</td>\n",
       "      <td>[]</td>\n",
       "      <td>10.000000</td>\n",
       "      <td>NaN</td>\n",
       "      <td>1001.0</td>\n",
       "      <td>5000211.0</td>\n",
       "      <td>NaN</td>\n",
       "      <td>[1001, 5000211.0]</td>\n",
       "      <td>4.0</td>\n",
       "    </tr>\n",
       "    <tr>\n",
       "      <th>3</th>\n",
       "      <td>29675</td>\n",
       "      <td>5000295.0</td>\n",
       "      <td>[]</td>\n",
       "      <td>21.999999</td>\n",
       "      <td>NaN</td>\n",
       "      <td>1002.0</td>\n",
       "      <td>20007.0</td>\n",
       "      <td>5000295.0</td>\n",
       "      <td>[1002, 20007.0, 5000295.0]</td>\n",
       "      <td>8.0</td>\n",
       "    </tr>\n",
       "    <tr>\n",
       "      <th>4</th>\n",
       "      <td>29865</td>\n",
       "      <td>200014.0</td>\n",
       "      <td>[]</td>\n",
       "      <td>59.000000</td>\n",
       "      <td>NaN</td>\n",
       "      <td>1005.0</td>\n",
       "      <td>200014.0</td>\n",
       "      <td>NaN</td>\n",
       "      <td>[1005, 200014.0]</td>\n",
       "      <td>4.0</td>\n",
       "    </tr>\n",
       "  </tbody>\n",
       "</table>\n",
       "</div>"
      ],
      "text/plain": [
       "   id_product  id_category_default seasonality      price  id_category_1  \\\n",
       "0       29415             200030.0      [3, 4]  85.000000            NaN   \n",
       "1       29609            5000211.0          []  10.000000            NaN   \n",
       "2       29611            5000211.0          []  10.000000            NaN   \n",
       "3       29675            5000295.0          []  21.999999            NaN   \n",
       "4       29865             200014.0          []  59.000000            NaN   \n",
       "\n",
       "   id_category_2  id_category_3  id_category_4                  categories  \\\n",
       "0         1004.0       200030.0            NaN            [1004, 200030.0]   \n",
       "1         1001.0      5000211.0            NaN           [1001, 5000211.0]   \n",
       "2         1001.0      5000211.0            NaN           [1001, 5000211.0]   \n",
       "3         1002.0        20007.0      5000295.0  [1002, 20007.0, 5000295.0]   \n",
       "4         1005.0       200014.0            NaN            [1005, 200014.0]   \n",
       "\n",
       "   freq  \n",
       "0   8.0  \n",
       "1   4.0  \n",
       "2   4.0  \n",
       "3   8.0  \n",
       "4   4.0  "
      ]
     },
     "execution_count": 41,
     "metadata": {},
     "output_type": "execute_result"
    }
   ],
   "source": [
    "products.head()"
   ]
  },
  {
   "cell_type": "code",
   "execution_count": 45,
   "metadata": {},
   "outputs": [
    {
     "data": {
      "text/plain": [
       "20"
      ]
     },
     "execution_count": 45,
     "metadata": {},
     "output_type": "execute_result"
    }
   ],
   "source": [
    "products.id_category_2.nunique()"
   ]
  },
  {
   "cell_type": "code",
   "execution_count": 25,
   "metadata": {},
   "outputs": [],
   "source": [
    "# create a df with brand name of each product\n",
    "\n",
    "df_brands = df_ps_product.merge(df_ps_manufacturers[['id_manufacturer', 'name']], left_on='id_manufacturer', right_on='id_manufacturer', how='left')\n",
    "# drop duplicates\n",
    "df_brands = df_brands.drop_duplicates(subset=['id_product', 'name'], keep='last')\n",
    "\n",
    "# keep specific columns\n",
    "df_brands=df_brands[['id_product', 'name', 'reference']]\n",
    "df_brands.columns = ['id_product', 'brand_name', 'reference']"
   ]
  },
  {
   "cell_type": "code",
   "execution_count": 27,
   "metadata": {},
   "outputs": [],
   "source": [
    "# create a df with the names of all the attributes of each product (as a list)\n",
    "\n",
    "# add attribute code of each product\n",
    "df_attribute = df_ps_product_attribute[['id_product', 'id_product_attribute']].merge(df_ps_product_attribute_combination, left_on='id_product_attribute', right_on='id_product_attribute', how='left')\n",
    "# add the name of each attribute\n",
    "df_attribute = df_attribute.merge(df_ps_attribute_lang, left_on='id_attribute', right_on='id_attribute', how='left')\n",
    "# keep only unique attributes for each product\n",
    "df_attribute = df_attribute.drop_duplicates(subset=['id_product', 'name'], keep='first')\n",
    "# group by and create a list of the attribute names of each product\n",
    "df_product_attributes = df_attribute.groupby('id_product')['name'].apply(list).reset_index(name='attributes')\n",
    "# create a list with all the attributes as a concatenated text\n",
    "df_product_attributes['attributes_text'] = df_product_attributes.apply(lambda x: ' '.join(x['attributes']), axis=1)"
   ]
  },
  {
   "cell_type": "code",
   "execution_count": 28,
   "metadata": {},
   "outputs": [],
   "source": [
    "# create a df with the names of all the categories of each product (as a list)\n",
    "\n",
    "# add the name of each category\n",
    "df_ps_category_product = df_ps_category_product.merge(df_ps_category_lang[['id_category','name']], left_on='id_category', right_on='id_category', how='left')\n",
    "# keep only unique attributes for each product\n",
    "df_ps_category_product = df_ps_category_product.drop_duplicates(subset=['id_product', 'name'], keep='first')\n",
    "# group by and create a list of the category names of each product\n",
    "df_product_categs = df_ps_category_product.groupby('id_product')['name'].apply(list).reset_index(name='categories')\n",
    "# create a list with all the categories as a concatenated text\n",
    "df_product_categs['categories_text'] = df_product_categs.apply(lambda x: ' '.join(x['categories']), axis=1)"
   ]
  },
  {
   "cell_type": "code",
   "execution_count": 29,
   "metadata": {},
   "outputs": [],
   "source": [
    "# create a column with the basic category id\n",
    "products['category'] = products.apply(lambda x: x['categories'][0], axis=1)\n",
    "# keep specific columns\n",
    "products_search1 = products[['id_product', 'price', 'freq', 'category']]\n",
    "\n",
    "# add the category names\n",
    "products_search1 = products_search1.merge(df_ps_category_lang[['id_category','name']], left_on='category', right_on='id_category', how='left')\n",
    "\n",
    "# add the product titles\n",
    "products_search1 = products_search1.merge(df_ps_product_lang, left_on='id_product', right_on='id_product', how='left')\n",
    "\n",
    "# create a column with a list of all the category names\n",
    "products_search1 = products_search1.merge(df_product_categs, left_on='id_product', right_on='id_product', how='left')\n",
    "\n",
    "# create a column with a list of all the attributes names\n",
    "products_search1 = products_search1.merge(df_product_attributes, left_on='id_product', right_on='id_product', how='left')\n",
    "\n",
    "# create a column with the brand name of each product\n",
    "products_search1 = products_search1.merge(df_brands, left_on='id_product', right_on='id_product', how='left')\n",
    "\n",
    "# rename columns\n",
    "products_search1.columns = ['Code', 'Price', 'freq', 'category_id', 'id_category', 'name','Product_name', 'categories', 'categories_text', 'attributes', 'attributes_text', 'brand_name', 'reference']\n",
    "\n",
    "# convert nans to ''\n",
    "products_search1['attributes_text'] = products_search1['attributes_text'].fillna(' ')\n",
    "# add the brand of each product to the 'attributes_text'\n",
    "products_search1['attributes_text'] = products_search1['brand_name'] +' '+ products_search1['attributes_text']\n",
    "\n",
    "# create a copy of the dataframe\n",
    "df_products = products_search1.copy()\n",
    "\n",
    "# convert Product_name to lowercase, greeklish etc\n",
    "# create a column with the title having changed some letters based on greek_letters_dict\n",
    "df_products['Product_name2'] = df_products.apply(lambda x: x[\"Product_name\"].lower().translate(str.maketrans(greek_letters_dict)), axis=1)\n",
    "# create a column with the greeklish title\n",
    "df_products['Product_name_eng'] = df_products.apply(lambda x: conv.convert(x[\"Product_name2\"])[0], axis=1)\n",
    "\n",
    "# convert categories_text to lowercase, greeklish etc \n",
    "# create a column with the categories_text having changed some letters based on greek_letters_dict\n",
    "df_products['categories_text2'] = df_products.apply(lambda x: x[\"categories_text\"].lower().translate(str.maketrans(greek_letters_dict)), axis=1)\n",
    "# create a column with the greeklish title\n",
    "df_products['categories_text_eng'] = df_products.apply(lambda x: conv.convert(x[\"categories_text2\"])[0], axis=1)\n",
    "\n",
    "# convert attributes_text to lowercase, greeklish etc \n",
    "# create a column with the attributes_text having changed some letters based on greek_letters_dict\n",
    "df_products['attributes_text2'] = df_products.apply(lambda x: x[\"attributes_text\"].lower().translate(str.maketrans(greek_letters_dict)), axis=1)\n",
    "# create a column with the greeklish title\n",
    "df_products['attributes_text_eng'] = df_products.apply(lambda x: conv.convert(x[\"attributes_text2\"])[0], axis=1)\n",
    "\n",
    "# keep only specific columns\n",
    "df_products = df_products[['Code', 'Price', 'Product_name', 'Product_name_eng', 'name', 'freq', 'categories', 'categories_text', 'categories_text_eng', 'attributes', 'attributes_text', 'attributes_text_eng', 'brand_name', 'reference']]\n",
    "\n",
    "# drop rows with nans\n",
    "#df_products = df_products.dropna()\n",
    "\n",
    "# drop duplicates\n",
    "df_products = df_products.drop_duplicates(subset=['Code'], keep='first')"
   ]
  },
  {
   "cell_type": "code",
   "execution_count": 32,
   "metadata": {},
   "outputs": [
    {
     "data": {
      "text/html": [
       "<div>\n",
       "<style scoped>\n",
       "    .dataframe tbody tr th:only-of-type {\n",
       "        vertical-align: middle;\n",
       "    }\n",
       "\n",
       "    .dataframe tbody tr th {\n",
       "        vertical-align: top;\n",
       "    }\n",
       "\n",
       "    .dataframe thead th {\n",
       "        text-align: right;\n",
       "    }\n",
       "</style>\n",
       "<table border=\"1\" class=\"dataframe\">\n",
       "  <thead>\n",
       "    <tr style=\"text-align: right;\">\n",
       "      <th></th>\n",
       "      <th>Code</th>\n",
       "      <th>Price</th>\n",
       "      <th>Product_name</th>\n",
       "      <th>Product_name_eng</th>\n",
       "      <th>name</th>\n",
       "      <th>freq</th>\n",
       "      <th>categories</th>\n",
       "      <th>categories_text</th>\n",
       "      <th>categories_text_eng</th>\n",
       "      <th>attributes</th>\n",
       "      <th>attributes_text</th>\n",
       "      <th>attributes_text_eng</th>\n",
       "      <th>brand_name</th>\n",
       "      <th>reference</th>\n",
       "    </tr>\n",
       "  </thead>\n",
       "  <tbody>\n",
       "    <tr>\n",
       "      <th>0</th>\n",
       "      <td>29415</td>\n",
       "      <td>85.0</td>\n",
       "      <td>Πάπλωμα Κούνιας Πουπουλένιο Guy Laroche Bebe 100%</td>\n",
       "      <td>paploma kounias poupoulenio guy laroche bebe 100%</td>\n",
       "      <td>Βρεφικά</td>\n",
       "      <td>8.0</td>\n",
       "      <td>[Βρεφικά, Παπλώματα Βρεφικά]</td>\n",
       "      <td>Βρεφικά Παπλώματα Βρεφικά</td>\n",
       "      <td>brefika paplwmata brefika</td>\n",
       "      <td>NaN</td>\n",
       "      <td>Guy Laroche</td>\n",
       "      <td>guy laroche</td>\n",
       "      <td>Guy Laroche</td>\n",
       "      <td>000000700022</td>\n",
       "    </tr>\n",
       "    <tr>\n",
       "      <th>2</th>\n",
       "      <td>29609</td>\n",
       "      <td>10.0</td>\n",
       "      <td>Διακοσμητική Μαξιλαροθήκη (40x40) Guy Laroche ...</td>\n",
       "      <td>diakosmhtikh maxilarothhkh (40x40) guy laroche...</td>\n",
       "      <td>Σαλόνι</td>\n",
       "      <td>4.0</td>\n",
       "      <td>[Σαλόνι, Διακοσμητικά Μαξιλάρια]</td>\n",
       "      <td>Σαλόνι Διακοσμητικά Μαξιλάρια</td>\n",
       "      <td>saloni diakosmhtika maxilaria</td>\n",
       "      <td>NaN</td>\n",
       "      <td>Guy Laroche</td>\n",
       "      <td>guy laroche</td>\n",
       "      <td>Guy Laroche</td>\n",
       "      <td>1116030113008</td>\n",
       "    </tr>\n",
       "  </tbody>\n",
       "</table>\n",
       "</div>"
      ],
      "text/plain": [
       "    Code  Price                                       Product_name  \\\n",
       "0  29415   85.0  Πάπλωμα Κούνιας Πουπουλένιο Guy Laroche Bebe 100%   \n",
       "2  29609   10.0  Διακοσμητική Μαξιλαροθήκη (40x40) Guy Laroche ...   \n",
       "\n",
       "                                    Product_name_eng     name  freq  \\\n",
       "0  paploma kounias poupoulenio guy laroche bebe 100%  Βρεφικά   8.0   \n",
       "2  diakosmhtikh maxilarothhkh (40x40) guy laroche...   Σαλόνι   4.0   \n",
       "\n",
       "                         categories                categories_text  \\\n",
       "0      [Βρεφικά, Παπλώματα Βρεφικά]      Βρεφικά Παπλώματα Βρεφικά   \n",
       "2  [Σαλόνι, Διακοσμητικά Μαξιλάρια]  Σαλόνι Διακοσμητικά Μαξιλάρια   \n",
       "\n",
       "             categories_text_eng attributes attributes_text  \\\n",
       "0      brefika paplwmata brefika        NaN   Guy Laroche     \n",
       "2  saloni diakosmhtika maxilaria        NaN   Guy Laroche     \n",
       "\n",
       "  attributes_text_eng   brand_name      reference  \n",
       "0       guy laroche    Guy Laroche   000000700022  \n",
       "2       guy laroche    Guy Laroche  1116030113008  "
      ]
     },
     "execution_count": 32,
     "metadata": {},
     "output_type": "execute_result"
    }
   ],
   "source": [
    "df_products.head(2)"
   ]
  },
  {
   "cell_type": "code",
   "execution_count": 1,
   "metadata": {},
   "outputs": [
    {
     "ename": "NameError",
     "evalue": "name 'df_products' is not defined",
     "output_type": "error",
     "traceback": [
      "\u001b[0;31m---------------------------------------------------------------------------\u001b[0m",
      "\u001b[0;31mNameError\u001b[0m                                 Traceback (most recent call last)",
      "\u001b[0;32m<ipython-input-1-ed0c8cf39ecb>\u001b[0m in \u001b[0;36m<module>\u001b[0;34m()\u001b[0m\n\u001b[0;32m----> 1\u001b[0;31m \u001b[0mdf_products\u001b[0m\u001b[0;34m.\u001b[0m\u001b[0mto_pickle\u001b[0m\u001b[0;34m(\u001b[0m\u001b[0;34m\"data/df_products_new.pkl\"\u001b[0m\u001b[0;34m)\u001b[0m\u001b[0;34m\u001b[0m\u001b[0m\n\u001b[0m",
      "\u001b[0;31mNameError\u001b[0m: name 'df_products' is not defined"
     ]
    }
   ],
   "source": [
    "df_products.to_pickle(\"data/df_products_new.pkl\")"
   ]
  },
  {
   "cell_type": "code",
   "execution_count": 4,
   "metadata": {},
   "outputs": [],
   "source": [
    "df_products = pd.read_pickle(\"data/df_products_new.pkl\")"
   ]
  },
  {
   "cell_type": "code",
   "execution_count": 5,
   "metadata": {},
   "outputs": [
    {
     "data": {
      "text/plain": [
       "array(['Βρεφικά', 'Σαλόνι', 'Κρεβατοκάμαρα', 'Μπάνιο', 'Παιδικά',\n",
       "       'Κουρτίνες', 'Κουζίνα - Τραπεζαρία', 'Μόδα Γάμου', 'Χαλιά',\n",
       "       'Προώθηση', 'Θαλάσσης', 'Διακόσμηση', 'Χριστουγεννιάτικα',\n",
       "       'Παιχνίδια', 'Επαγγελματικός Εξοπλισμός', 'Φωτιστικά',\n",
       "       'Δώρα για νεογέννητο', 'Κήπος', 'Πασχαλινά',\n",
       "       'Υγιεινή - Μάσκες Προστασίας'], dtype=object)"
      ]
     },
     "execution_count": 5,
     "metadata": {},
     "output_type": "execute_result"
    }
   ],
   "source": [
    "df_products.name.unique()"
   ]
  },
  {
   "cell_type": "code",
   "execution_count": 6,
   "metadata": {},
   "outputs": [
    {
     "data": {
      "text/plain": [
       "20"
      ]
     },
     "execution_count": 6,
     "metadata": {},
     "output_type": "execute_result"
    }
   ],
   "source": [
    "df_products.name.nunique()"
   ]
  },
  {
   "cell_type": "markdown",
   "metadata": {},
   "source": [
    "## -- Create a new elastic search index with the new dataset"
   ]
  },
  {
   "cell_type": "code",
   "execution_count": 18,
   "metadata": {},
   "outputs": [],
   "source": [
    "# # create a list of dicts with the product details\n",
    "# products = []\n",
    "# tmp = df_products.apply(lambda x: products.append({'title_eng':x['Product_name_eng'],\n",
    "#                                                          'title_init':x['Product_name'],\n",
    "#                                                          #'url':x['Url'],\n",
    "#                                                          'Price':x['Price'],\n",
    "#                                                          #'Brand':x['Brand'],\n",
    "#                                                          'Category':x['name'],\n",
    "#                                                          #'img_url':x['img_url'],\n",
    "#                                                          'Code':x['Code'],\n",
    "#                                                          'Popularity':x['freq']\n",
    "#                                                   }), axis=1)\n",
    "\n",
    "# # connect to elasticsearch / create an Elasticsearch object\n",
    "# def connect_elasticsearch():\n",
    "#     _es = None\n",
    "#     #_es = Elasticsearch([{'host': 'localhost', 'port': 9200}])\n",
    "#     _es = Elasticsearch()\n",
    "#     if _es.ping():\n",
    "#         print('- Connected')\n",
    "#     else:\n",
    "#         print('- Problem with the connection')\n",
    "#     return _es\n",
    "\n",
    "# es = connect_elasticsearch()\n",
    "\n",
    "# # delete the old index\n",
    "# es.indices.delete(index='spitishop_1', ignore=[400, 404])\n",
    "\n",
    "# def create_index(es_object, index_name='spitishop_1'):\n",
    "    \n",
    "#     # index settings\n",
    "# #     settings = {\n",
    "# #           \"settings\": {\n",
    "# #             \"analysis\": {\n",
    "# #               \"analyzer\": {\n",
    "# #                 \"my_analyzer\": { \n",
    "# #                   \"type\": \"standard\", # https://www.elastic.co/guide/en/elasticsearch/reference/current/analysis-standard-analyzer.html\n",
    "# #                   \"stopwords\": [\"sentoni\", \"the\", 'mpournouzi'],\n",
    "# #                   #\"stopwords_path\": \"stopwords/my_stopwords.txt\"\n",
    "# #                 }\n",
    "# #               }\n",
    "# #             }\n",
    "# #           },\n",
    "# #         #\"mappings\": {}\n",
    "# #     }\n",
    "\n",
    "#     # https://www.elastic.co/guide/en/elasticsearch/reference/current/analysis-synonym-tokenfilter.html\n",
    "#     settings = {\n",
    "#                 \"settings\": {\n",
    "#                     \"index\" : {\n",
    "#                         \"analysis\" : {\n",
    "#                             \"analyzer\" : {\n",
    "#                                 \"my_analyzer\" : {\n",
    "#                                     \"tokenizer\" : \"standard\",\n",
    "#                                     \"filter\" : [\"my_stop\", \"synonym\"]\n",
    "#                                 }\n",
    "#                             },\n",
    "#                             \"filter\" : {\n",
    "#                                 \"my_stop\": {\n",
    "#                                     \"type\" : \"stop\",\n",
    "#                                     \"stopwords\": [\"to\", \"kai\"]\n",
    "#                                 },\n",
    "#                                 \"synonym\" : {\n",
    "#                                     \"type\" : \"synonym\",\n",
    "#                                     \"lenient\": True,\n",
    "#                                     \"synonyms\" : [\"ypnodomatio, bedroom => krebatokamara\"]\n",
    "#                                 }\n",
    "#                             }\n",
    "#                         }\n",
    "#                     }\n",
    "#                 }\n",
    "#             }\n",
    "    \n",
    "#     try:\n",
    "#         #if not es_object.indices.exists(index_name):\n",
    "#         # Ignore 400 means to ignore \"Index Already Exist\" error.\n",
    "#         es_object.indices.create(index=index_name, ignore=400, body=settings)\n",
    "#         print('Created Index')\n",
    "#     except Exception as ex:\n",
    "#         print('Error: ', str(ex))\n",
    "\n",
    "# create_index(es, 'spitishop_1')\n",
    "\n",
    "# # add products to the index\n",
    "# i = 1\n",
    "# for product in products[0:]:\n",
    "#     es.index(index='spitishop_1',\n",
    "#              doc_type='product',\n",
    "#              id=i,\n",
    "#              body=product,\n",
    "#             )\n",
    "#     i += 1\n",
    "\n",
    "# df_products.to_pickle('/home/ubuntu/Spitishop/Spitishop_RE/search_products_api.pkl')\n",
    "\n",
    "# print(\"Copy the pickle file to the API folder\")\n",
    "# # move the pickle files to the API file\n",
    "# os.system(\"sudo cp /home/ubuntu/Spitishop/Spitishop_RE/search_products_api.pkl /home/spitishop/spitishop_rec_app\")\n",
    "\n",
    "# # write a log message\n",
    "# with open(\"/home/ubuntu/Spitishop/Spitishop_RE/logs/search_products.txt\", \"a\") as f:\n",
    "#     f.write(\"Run properly at: %s \\n\" % str(datetime.datetime.now()))"
   ]
  },
  {
   "cell_type": "code",
   "execution_count": 82,
   "metadata": {},
   "outputs": [
    {
     "name": "stdout",
     "output_type": "stream",
     "text": [
      "\u001b]0;IPython: search_engine/Testing\u0007Running products_search.py  2020-09-21 11:06:15.396481\n",
      "Fetching data\n",
      "Data fetched\n",
      "- Connected\n",
      "Created Index\n",
      "Copy the pickle file to the API folder\n"
     ]
    }
   ],
   "source": [
    "#!/opt/anaconda3/bin/ipython /home/ubuntu/Spitishop/Spitishop_RE/products_search.py"
   ]
  },
  {
   "cell_type": "code",
   "execution_count": null,
   "metadata": {},
   "outputs": [],
   "source": []
  }
 ],
 "metadata": {
  "kernelspec": {
   "display_name": "Python 3",
   "language": "python",
   "name": "python3"
  },
  "language_info": {
   "codemirror_mode": {
    "name": "ipython",
    "version": 3
   },
   "file_extension": ".py",
   "mimetype": "text/x-python",
   "name": "python",
   "nbconvert_exporter": "python",
   "pygments_lexer": "ipython3",
   "version": "3.7.0"
  }
 },
 "nbformat": 4,
 "nbformat_minor": 2
}
