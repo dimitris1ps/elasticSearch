{
 "cells": [
  {
   "cell_type": "code",
   "execution_count": 2,
   "metadata": {},
   "outputs": [],
   "source": [
    "# Import libraries\n",
    "import MySQLdb\n",
    "import pandas as pd\n",
    "import datetime\n",
    "import os"
   ]
  },
  {
   "cell_type": "code",
   "execution_count": 3,
   "metadata": {},
   "outputs": [
    {
     "name": "stdout",
     "output_type": "stream",
     "text": [
      "Fetching data\n",
      "Data fetched\n"
     ]
    }
   ],
   "source": [
    "# read the password\n",
    "p = pd.read_csv('/home/ubuntu/Spitishop/Spitishop_RE/p.txt', sep=\" \", header=None).iloc[0,0]\n",
    "\n",
    "print(\"Fetching data\")\n",
    "# connect to database\n",
    "conn = MySQLdb.connect(\"195.201.212.160\",\"infilab\",p,\"spitishop_redesign_2019\", charset='utf8')\n",
    "\n",
    "\n",
    "#df = pd.read_sql(q, conn)\n",
    "\n",
    "# read the products that are active\n",
    "df_ps_product_shop = pd.read_sql(\"select id_product, active from ps_product_shop where active=1\", conn)\n",
    "\n",
    "# read the availability table - ps_stock_available\n",
    "#  and (quantity>0 or out_of_stock=1)\n",
    "#df_ps_stock_available = pd.read_sql(\"select id_product, quantity, out_of_stock from ps_stock_available where id_shop=1\", conn)\n",
    "\n",
    "# Read the tables about categories\n",
    "df_ps_category = pd.read_sql(\"select id_category, level_depth from ps_category\", conn)\n",
    "df_ps_category_product = pd.read_sql(\"select id_product, id_category from ps_category_product\", conn)\n",
    "# Read the table with the category names\n",
    "df_ps_category_lang = pd.read_sql(\"select id_category, name from ps_category_lang where id_lang=2 and id_shop=1\", conn)\n",
    "\n",
    "# Close connection\n",
    "conn.close()\n",
    "\n",
    "print(\"Data fetched\")"
   ]
  },
  {
   "cell_type": "code",
   "execution_count": 4,
   "metadata": {},
   "outputs": [
    {
     "data": {
      "text/plain": [
       "array(['Βρεφικά', 'Κρεβατοκάμαρα', 'Μπάνιο', 'Παιδικά', 'Σαλόνι',\n",
       "       'Κουρτίνες', 'Κουζίνα - Τραπεζαρία', 'Χαλιά', 'Μόδα Γάμου',\n",
       "       'Προώθηση', 'Θαλάσσης', 'Διακόσμηση', 'Χριστουγεννιάτικα',\n",
       "       'Παιχνίδια', 'Επαγγελματικός Εξοπλισμός', 'Φωτιστικά',\n",
       "       'Δώρα για νεογέννητο', 'Κήπος', 'Πασχαλινά',\n",
       "       'Υγιεινή - Μάσκες Προστασίας', 'Clearance'], dtype=object)"
      ]
     },
     "execution_count": 4,
     "metadata": {},
     "output_type": "execute_result"
    }
   ],
   "source": [
    "# merge active products with categories\n",
    "df = df_ps_product_shop.merge(df_ps_category_product, left_on='id_product', right_on='id_product', how='left')\n",
    "# add the level depth of the category\n",
    "df2 = df.merge(df_ps_category, left_on='id_category', right_on='id_category', how='left')\n",
    "# add the category name\n",
    "df3 = df2.merge(df_ps_category_lang, left_on='id_category', right_on='id_category', how='left')\n",
    "# keep only categories with level depth=2\n",
    "df4 = df3[df3.level_depth==2]\n",
    "# keep only uniques\n",
    "df4 = df4.drop_duplicates(subset=['id_product'], keep='first')\n",
    "# print the unique categories\n",
    "df4.name.unique()"
   ]
  },
  {
   "cell_type": "code",
   "execution_count": 5,
   "metadata": {},
   "outputs": [
    {
     "data": {
      "text/plain": [
       "21"
      ]
     },
     "execution_count": 5,
     "metadata": {},
     "output_type": "execute_result"
    }
   ],
   "source": [
    "df4.name.nunique()"
   ]
  },
  {
   "cell_type": "code",
   "execution_count": null,
   "metadata": {},
   "outputs": [],
   "source": []
  }
 ],
 "metadata": {
  "kernelspec": {
   "display_name": "Python 3",
   "language": "python",
   "name": "python3"
  },
  "language_info": {
   "codemirror_mode": {
    "name": "ipython",
    "version": 3
   },
   "file_extension": ".py",
   "mimetype": "text/x-python",
   "name": "python",
   "nbconvert_exporter": "python",
   "pygments_lexer": "ipython3",
   "version": "3.7.0"
  }
 },
 "nbformat": 4,
 "nbformat_minor": 2
}
