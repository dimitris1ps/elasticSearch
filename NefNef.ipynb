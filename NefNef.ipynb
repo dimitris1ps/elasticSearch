{
 "cells": [
  {
   "cell_type": "code",
   "execution_count": 42,
   "id": "e816f509",
   "metadata": {},
   "outputs": [],
   "source": [
    "import requests\n",
    "import json\n",
    "import pandas as pd\n",
    "from numpy import unique\n",
    "\n",
    "from elasticsearch import Elasticsearch\n",
    "from elasticsearch_dsl import Search\n",
    "#!pip install python-greeklish --user\n",
    "from greeklish.converter import Converter"
   ]
  },
  {
   "cell_type": "code",
   "execution_count": 138,
   "id": "333a8210",
   "metadata": {},
   "outputs": [],
   "source": [
    "INDEX_NAME = \"nefnef_es\""
   ]
  },
  {
   "cell_type": "code",
   "execution_count": 188,
   "id": "999fb8b9",
   "metadata": {},
   "outputs": [],
   "source": [
    "### Helpter functions\n",
    "\n",
    "# Convert greek to gleeklish\n",
    "def query_to_gleeklish(query):\n",
    "    conv = Converter(max_expansions=1)\n",
    "    query = conv.convert(query.lower())[0]\n",
    "    return query\n",
    "\n",
    "# connect to elasticsearch\n",
    "def connect_elasticsearch():\n",
    "    _es = None\n",
    "    _es = Elasticsearch()\n",
    "    if _es.ping():\n",
    "        print('- Connected')\n",
    "    else:\n",
    "        print('- Cannot connect to ElasticSearch')\n",
    "    return _es\n"
   ]
  },
  {
   "cell_type": "code",
   "execution_count": 2,
   "id": "a74d391c",
   "metadata": {},
   "outputs": [],
   "source": [
    "jsonUrl = \"https://nef-nef.gr/feeds/products-json.ashx\"\n",
    "r = requests.get(jsonUrl)\n",
    "res = json.loads(r.text)"
   ]
  },
  {
   "cell_type": "code",
   "execution_count": 3,
   "id": "63f8608d",
   "metadata": {},
   "outputs": [],
   "source": [
    "attributes = [el.pop('attributes') for el in res]"
   ]
  },
  {
   "cell_type": "code",
   "execution_count": 4,
   "id": "7da4e090",
   "metadata": {},
   "outputs": [],
   "source": [
    "df = pd.DataFrame(res)\n",
    "\n",
    "df['category'] = df['category_path'].str.split(' > ').apply(lambda x: x[0])\n",
    "df['category'] = df['category'].replace({'SPECIAL OFFERS':'Προσφορές'})"
   ]
  },
  {
   "cell_type": "code",
   "execution_count": 5,
   "id": "56f27107",
   "metadata": {},
   "outputs": [],
   "source": [
    "Categories = df['category'].unique()\n",
    "Categories = unique([x.split(' ')[0] for x in Categories])"
   ]
  },
  {
   "cell_type": "code",
   "execution_count": 6,
   "id": "affac2af",
   "metadata": {},
   "outputs": [],
   "source": [
    "conv = Converter(max_expansions=1)\n",
    "df['meta_keywords_eng'] = [conv.convert(el)[0] for el in df['meta_keywords'].str.lower()]\n",
    "df['name_eng'] = [conv.convert(el)[0] for el in df['name'].str.lower()]\n",
    "df['description_small_eng'] = [conv.convert(el)[0] for el in df['description_small'].str.lower()]"
   ]
  },
  {
   "cell_type": "code",
   "execution_count": 11,
   "id": "1ad54087",
   "metadata": {},
   "outputs": [],
   "source": [
    "products = df[['code','manufacturer', 'meta_keywords', 'meta_keywords_eng', \n",
    "                        'name', 'name_eng', 'description_small', 'description_small_eng',\n",
    "                        'category', 'site_url', ]].to_dict('records')"
   ]
  },
  {
   "cell_type": "code",
   "execution_count": 15,
   "id": "22df50e9",
   "metadata": {},
   "outputs": [],
   "source": [
    "%%capture\n",
    "# Create an Elasticsearch object\n",
    "es = connect_elasticsearch()"
   ]
  },
  {
   "cell_type": "code",
   "execution_count": 20,
   "id": "6cb5d440",
   "metadata": {},
   "outputs": [],
   "source": [
    "## delete the index\n",
    "if INDEX_NAME in es.indices.get_alias().keys():\n",
    "    es.indices.delete(index=INDEX_NAME, ignore=[400, 404])"
   ]
  },
  {
   "cell_type": "code",
   "execution_count": 17,
   "id": "3b5f0f7e",
   "metadata": {},
   "outputs": [],
   "source": [
    "# the index creation in ES is similar to the DB building in RDBMS\n",
    "# a database named spitishop_testing is created \n",
    "# http://localhost:9200/spitishop_testing\n",
    "def create_index(es_object, index_name=None):\n",
    "    # https://www.elastic.co/guide/en/elasticsearch/reference/current/analysis-synonym-tokenfilter.html\n",
    "    settings = {\n",
    "                \"settings\": {\n",
    "                    \"index\" : {\n",
    "                        \"analysis\" : {\n",
    "                            \"analyzer\" : {\n",
    "                                \"my_analyzer\" : {\n",
    "                                    \"tokenizer\" : \"standard\",\n",
    "                                    \"filter\" : [\"my_stop\", \"synonym\"]\n",
    "                                }\n",
    "                            },\n",
    "                            \"filter\" : {\n",
    "                                \"my_stop\": {\n",
    "                                    \"type\" : \"stop\",\n",
    "                                    \"stopwords\": [\"to\", \"kai\", \"thn\", \"einai\", \"an\", \"sas\", \n",
    "                                                  \"olo\", \"apo\", \"sth\", \"sto\", \"me\"]\n",
    "                                },\n",
    "                                \"synonym\" : {\n",
    "                                    \"type\" : \"synonym\",\n",
    "                                    \"lenient\": True,\n",
    "                                    \"synonyms\" : [\"ypnodomatio, bedroom => krebatokamara\"]\n",
    "                                }\n",
    "                            }\n",
    "                        }\n",
    "                    }\n",
    "                },\n",
    "            }\n",
    "    \n",
    "    try:\n",
    "        #if not es_object.indices.exists(index_name):\n",
    "        # Ignore 400 means to ignore \"Index Already Exist\" error.\n",
    "        es_object.indices.create(index=index_name, ignore=400, **settings)\n",
    "        print('Created Index')\n",
    "    except Exception as ex:\n",
    "        print('Error: ', str(ex))"
   ]
  },
  {
   "cell_type": "code",
   "execution_count": 18,
   "id": "1ad4b87b",
   "metadata": {},
   "outputs": [
    {
     "name": "stdout",
     "output_type": "stream",
     "text": [
      "Created Index\n"
     ]
    }
   ],
   "source": [
    "create_index(es, INDEX_NAME)"
   ]
  },
  {
   "cell_type": "code",
   "execution_count": 19,
   "id": "fc8ab16a",
   "metadata": {},
   "outputs": [
    {
     "name": "stdout",
     "output_type": "stream",
     "text": [
      "CPU times: user 1.09 s, sys: 47 ms, total: 1.14 s\n",
      "Wall time: 5.36 s\n"
     ]
    }
   ],
   "source": [
    "%%time\n",
    "\n",
    "# add products to the index\n",
    "for i, product in enumerate(products[0:]):\n",
    "    es.index(index=INDEX_NAME,\n",
    "             id=i,\n",
    "             document=product)"
   ]
  },
  {
   "cell_type": "markdown",
   "id": "cc8758af",
   "metadata": {},
   "source": [
    "## Search"
   ]
  },
  {
   "cell_type": "code",
   "execution_count": 145,
   "id": "65acfdf3",
   "metadata": {},
   "outputs": [],
   "source": [
    "SEARCH_TERM = \"ΠΑΠΛΩΜΑ\""
   ]
  },
  {
   "cell_type": "code",
   "execution_count": null,
   "id": "1112fd27",
   "metadata": {},
   "outputs": [],
   "source": []
  },
  {
   "cell_type": "code",
   "execution_count": 259,
   "id": "f2cae82a",
   "metadata": {},
   "outputs": [],
   "source": [
    "def es_query(es_object, index_name, query_term, fz = \"AUTO:3,5\"):\n",
    "    \n",
    "    query_term = query_to_gleeklish(query_term)\n",
    "    \n",
    "    s = (Search(using=es_object, index=index_name)\n",
    "     \n",
    "     .query(\"bool\",\n",
    "        should=[Q(\"match\",name_eng={\"query\": query_term, \n",
    "                                    \"fuzziness\": fz, \"analyzer\":\"my_analyzer\", \"boost\":3}), \n",
    "                Q(\"match\",meta_keywords_eng={\"query\": query_term, \n",
    "                                    \"fuzziness\": fz, \"analyzer\":\"my_analyzer\", \"boost\":2}),\n",
    "                Q(\"match\",name_eng={\"query\": query_term, \n",
    "                                    \"fuzziness\": fz, \"analyzer\":\"my_analyzer\", \"boost\":1})\n",
    "               ]\n",
    "       )\n",
    "     \n",
    "     .extra(size=50)\n",
    "         \n",
    "     .source(includes=[\"name\", \"code\", \"meta_keywords\"])\n",
    "         \n",
    "    )\n",
    "    \n",
    "    return s"
   ]
  },
  {
   "cell_type": "code",
   "execution_count": 260,
   "id": "a783d657",
   "metadata": {},
   "outputs": [],
   "source": [
    "s = es_query(es_object = es, index_name = INDEX_NAME, query_term = SEARCH_TERM)"
   ]
  },
  {
   "cell_type": "code",
   "execution_count": 261,
   "id": "35b6022f",
   "metadata": {},
   "outputs": [
    {
     "data": {
      "text/plain": [
       "{'query': {'bool': {'should': [{'match': {'name_eng': {'query': 'paplwma',\n",
       "       'fuzziness': 'AUTO:3,5',\n",
       "       'analyzer': 'my_analyzer',\n",
       "       'boost': 3}}},\n",
       "    {'match': {'meta_keywords_eng': {'query': 'paplwma',\n",
       "       'fuzziness': 'AUTO:3,5',\n",
       "       'analyzer': 'my_analyzer',\n",
       "       'boost': 2}}},\n",
       "    {'match': {'name_eng': {'query': 'paplwma',\n",
       "       'fuzziness': 'AUTO:3,5',\n",
       "       'analyzer': 'my_analyzer',\n",
       "       'boost': 1}}}]}},\n",
       " 'size': 50,\n",
       " '_source': {'includes': ['name', 'code', 'meta_keywords']}}"
      ]
     },
     "execution_count": 261,
     "metadata": {},
     "output_type": "execute_result"
    }
   ],
   "source": [
    "s.to_dict()"
   ]
  },
  {
   "cell_type": "code",
   "execution_count": 262,
   "id": "977312fc",
   "metadata": {},
   "outputs": [],
   "source": [
    "res = s.execute()"
   ]
  },
  {
   "cell_type": "code",
   "execution_count": 263,
   "id": "41c47bdb",
   "metadata": {},
   "outputs": [
    {
     "data": {
      "text/plain": [
       "37"
      ]
     },
     "execution_count": 263,
     "metadata": {},
     "output_type": "execute_result"
    }
   ],
   "source": [
    "res.hits.total.value"
   ]
  },
  {
   "cell_type": "code",
   "execution_count": 264,
   "id": "40c3bb36",
   "metadata": {},
   "outputs": [],
   "source": [
    "s = es_query(es_object = es, index_name = INDEX_NAME, query_term = SEARCH_TERM, fz=10)"
   ]
  },
  {
   "cell_type": "code",
   "execution_count": 265,
   "id": "4f3839eb",
   "metadata": {},
   "outputs": [],
   "source": [
    "res = s.execute()"
   ]
  },
  {
   "cell_type": "code",
   "execution_count": 266,
   "id": "bf7e1fd8",
   "metadata": {},
   "outputs": [
    {
     "data": {
      "text/plain": [
       "37"
      ]
     },
     "execution_count": 266,
     "metadata": {},
     "output_type": "execute_result"
    }
   ],
   "source": [
    "res.hits.total.value"
   ]
  },
  {
   "cell_type": "code",
   "execution_count": 269,
   "id": "ae7347ff",
   "metadata": {},
   "outputs": [
    {
     "data": {
      "text/plain": [
       "<Hit(nefnef_es/0): {'code': '003507', 'name': 'ΠΑΠΛΩΜΑ ΜΟΝΟ MICROFIBER', 'meta_...}>"
      ]
     },
     "execution_count": 269,
     "metadata": {},
     "output_type": "execute_result"
    }
   ],
   "source": [
    "res.hits[0]"
   ]
  },
  {
   "cell_type": "code",
   "execution_count": null,
   "id": "a1d4f4f0",
   "metadata": {},
   "outputs": [],
   "source": [
    "res[0].meta.score\n",
    "res[0].name_eng\n",
    "res[0].name"
   ]
  },
  {
   "cell_type": "code",
   "execution_count": 45,
   "id": "6299546b",
   "metadata": {},
   "outputs": [],
   "source": [
    "def run_search(query, category = None, returned_results=10):\n",
    "    \n",
    "    conv = Converter(max_expansions=1)\n",
    "    query = conv.convert(query.lower())[0]\n",
    "    \n",
    "    print(query)\n",
    "    \n",
    "    if category:\n",
    "        pass\n",
    "    else:\n",
    "        results = es.search(index=INDEX_NAME,size=returned_results, **{\n",
    "\n",
    "                  \"query\": {\n",
    "                    \"bool\": {\n",
    "                        \n",
    "                        \n",
    "                      \"should\": [\n",
    "                          \n",
    "                        { \"match\": { \n",
    "                            \"name_eng\":  {\n",
    "                              \"query\": query,\n",
    "                              \"fuzziness\": \"AUTO:3,5\",\n",
    "                              \"analyzer\": \"my_analyzer\",  \n",
    "                              \"boost\": 3\n",
    "                        }}},\n",
    "                        { \"match\": { \n",
    "                            \"meta_keywords_eng\":  {\n",
    "                              \"query\": query,\n",
    "                              \"fuzziness\": \"AUTO:3,5\",\n",
    "                              \"analyzer\": \"my_analyzer\",                             \n",
    "                              \"boost\": 5\n",
    "                        }}},\n",
    "                        { \"match\": { \n",
    "                            \"description_small_eng\":  {\n",
    "                              \"query\": query,\n",
    "                              \"fuzziness\": \"AUTO:3,5\",\n",
    "                              \"analyzer\": \"my_analyzer\",                            \n",
    "                              \"boost\": 1\n",
    "                        }}},\n",
    "                          \n",
    "                      ]\n",
    "                    \n",
    "                    \n",
    "                    }\n",
    "                  }                                                                   \n",
    "                },                  \n",
    "                                   )\n",
    "        return results"
   ]
  },
  {
   "cell_type": "code",
   "execution_count": 169,
   "id": "2ea3daab",
   "metadata": {},
   "outputs": [
    {
     "name": "stdout",
     "output_type": "stream",
     "text": [
      "paidikh\n"
     ]
    },
    {
     "data": {
      "text/plain": [
       "[{'_index': 'nefnef_es',\n",
       "  '_type': '_doc',\n",
       "  '_id': '863',\n",
       "  '_score': 37.44996,\n",
       "  '_source': {'code': '029380',\n",
       "   'manufacturer': 'NEF NEF HOMEWARE',\n",
       "   'meta_keywords': 'ΠΑΙΔΙΚΗ, ΚΟΥΒΕΡΤΑ, ΜΟΝΗ, FOOT',\n",
       "   'meta_keywords_eng': 'paidikh, kouberta, monh, foot',\n",
       "   'name': 'ΠΑΙΔΙΚΗ ΚΟΥΒΕΡΤΑ ΜΟΝΗ FOOT ',\n",
       "   'name_eng': 'paidikh kouberta monh foot ',\n",
       "   'description_small': 'Παιδική Κουβέρτα μονή, διάστασης 160x220cm.<br />Είναι ιδιαίτερα απαλή, κατασκευασμένη από flannel πολυεστέρα βάρους 285gr/m<sup>2</sup>.<br />',\n",
       "   'description_small_eng': 'paidikh kouberta monh, diastashs 160x220cm.<br />einai idiaitera apalh, kataskeuasmenh apo flannel polyestera barous 285gr/m<sup>2</sup>.<br />',\n",
       "   'category': 'Παιδικά',\n",
       "   'site_url': 'https://nef-nef.gr/gr/prdid/7ab3de7415484b13bafc9f091503c037/productinfo.aspx'}},\n",
       " {'_index': 'nefnef_es',\n",
       "  '_type': '_doc',\n",
       "  '_id': '557',\n",
       "  '_score': 36.715103,\n",
       "  '_ignored': ['description_small.keyword', 'description_small_eng.keyword'],\n",
       "  '_source': {'code': '029010',\n",
       "   'manufacturer': 'NEF NEF HOMEWARE',\n",
       "   'meta_keywords': 'ΠΑΙΔΙΚΗ, ΚΟΥΒΕΡΤΑ, ΜΟΝΗ, FRIENDSHIP',\n",
       "   'meta_keywords_eng': 'paidikh, kouberta, monh, friendship',\n",
       "   'name': 'ΠΑΙΔΙΚΗ ΚΟΥΒΕΡΤΑ ΜΟΝΗ FRIENDSHIP',\n",
       "   'name_eng': 'paidikh kouberta monh friendship',\n",
       "   'description_small': 'Παιδική κουβέρτα τυπωτή  βελουτέ με πολύ μαλακά νήματα, διάστασης 160x220cm.<br />Είναι ιδιαίτερα ζεστή και απαλή,κατασκευασμένη από super soft πολυεστέρα βάρους 550gr/m<sup>2</sup>.<br />Συνδυάζεται με ιδίου σχεδίου σετ σεντόνια, σετ παπλωματοθήκη και πάπλωμα.',\n",
       "   'description_small_eng': 'paidikh kouberta typwth  beloute me poly malaka nhmata, diastashs 160x220cm.<br />einai idiaitera zesth kai apalh,kataskeuasmenh apo super soft polyestera barous 550gr/m<sup>2</sup>.<br />syndyazetai me idiou sxediou set sentonia, set paplwmatothhkh kai paplwma.',\n",
       "   'category': 'Παιδικά',\n",
       "   'site_url': 'https://nef-nef.gr/gr/prdid/c3ea57f9a3a84cbd869ad9b1b1c71e95/productinfo.aspx'}},\n",
       " {'_index': 'nefnef_es',\n",
       "  '_type': '_doc',\n",
       "  '_id': '558',\n",
       "  '_score': 36.715103,\n",
       "  '_ignored': ['description_small.keyword', 'description_small_eng.keyword'],\n",
       "  '_source': {'code': '029011',\n",
       "   'manufacturer': 'NEF NEF HOMEWARE',\n",
       "   'meta_keywords': 'ΠΑΙΔΙΚΗ, ΚΟΥΒΕΡΤΑ, ΜΟΝΗ, LANSELOT',\n",
       "   'meta_keywords_eng': 'paidikh, kouberta, monh, lanselot',\n",
       "   'name': 'ΠΑΙΔΙΚΗ ΚΟΥΒΕΡΤΑ ΜΟΝΗ LANSELOT',\n",
       "   'name_eng': 'paidikh kouberta monh lanselot',\n",
       "   'description_small': 'Παιδική κουβέρτα τυπωτή  βελουτέ με πολύ μαλακά νήματα, διάστασης 160x220cm.<br />Είναι ιδιαίτερα ζεστή και απαλή,κατασκευασμένη από super soft πολυεστέρα βάρους 550gr/m<sup>2</sup>.<br />Συνδυάζεται με ιδίου σχεδίου σετ σεντόνια, σετ παπλωματοθήκη και πάπλωμα.',\n",
       "   'description_small_eng': 'paidikh kouberta typwth  beloute me poly malaka nhmata, diastashs 160x220cm.<br />einai idiaitera zesth kai apalh,kataskeuasmenh apo super soft polyestera barous 550gr/m<sup>2</sup>.<br />syndyazetai me idiou sxediou set sentonia, set paplwmatothhkh kai paplwma.',\n",
       "   'category': 'Παιδικά',\n",
       "   'site_url': 'https://nef-nef.gr/gr/prdid/cb9522e542094cceb6aa3f02ef7efff6/productinfo.aspx'}},\n",
       " {'_index': 'nefnef_es',\n",
       "  '_type': '_doc',\n",
       "  '_id': '556',\n",
       "  '_score': 33.83466,\n",
       "  '_ignored': ['description_small.keyword', 'description_small_eng.keyword'],\n",
       "  '_source': {'code': '029009',\n",
       "   'manufacturer': 'NEF NEF HOMEWARE',\n",
       "   'meta_keywords': 'ΠΑΙΔΙΚΗ, ΚΟΥΒΕΡΤΑ, ΜΟΝΗ, ART, PRINCESS',\n",
       "   'meta_keywords_eng': 'paidikh, kouberta, monh, art, princess',\n",
       "   'name': 'ΠΑΙΔΙΚΗ ΚΟΥΒΕΡΤΑ ΜΟΝΗ ART PRINCESS',\n",
       "   'name_eng': 'paidikh kouberta monh art princess',\n",
       "   'description_small': 'Παιδική κουβέρτα τυπωτή  βελουτέ με πολύ μαλακά νήματα, διάστασης 160x220cm.<br />Είναι ιδιαίτερα ζεστή και απαλή,κατασκευασμένη από super soft πολυεστέρα βάρους 550gr/m<sup>2</sup>.<br />Συνδυάζεται με ιδίου σχεδίου σετ σεντόνια, σετ παπλωματοθήκη, πάπλωμα και  σετ πετσέτες.',\n",
       "   'description_small_eng': 'paidikh kouberta typwth  beloute me poly malaka nhmata, diastashs 160x220cm.<br />einai idiaitera zesth kai apalh,kataskeuasmenh apo super soft polyestera barous 550gr/m<sup>2</sup>.<br />syndyazetai me idiou sxediou set sentonia, set paplwmatothhkh, paplwma kai  set petsetes.',\n",
       "   'category': 'Παιδικά',\n",
       "   'site_url': 'https://nef-nef.gr/gr/prdid/aef8d3f227b8439081e5bebe76373f0f/productinfo.aspx'}},\n",
       " {'_index': 'nefnef_es',\n",
       "  '_type': '_doc',\n",
       "  '_id': '559',\n",
       "  '_score': 33.83466,\n",
       "  '_ignored': ['description_small.keyword', 'description_small_eng.keyword'],\n",
       "  '_source': {'code': '029012',\n",
       "   'manufacturer': 'NEF NEF HOMEWARE',\n",
       "   'meta_keywords': 'ΠΑΙΔΙΚΗ, ΚΟΥΒΕΡΤΑ, ΜΟΝΗ, SPACE, ZOO',\n",
       "   'meta_keywords_eng': 'paidikh, kouberta, monh, space, zoo',\n",
       "   'name': 'ΠΑΙΔΙΚΗ ΚΟΥΒΕΡΤΑ ΜΟΝΗ SPACE ZOO',\n",
       "   'name_eng': 'paidikh kouberta monh space zoo',\n",
       "   'description_small': 'Παιδική κουβέρτα τυπωτή  βελουτέ με πολύ μαλακά νήματα, διάστασης 160x220cm.<br />Είναι ιδιαίτερα ζεστή και απαλή,κατασκευασμένη από super soft πολυεστέρα βάρους 550gr/m<sup>2</sup>.<br />Συνδυάζεται με ιδίου σχεδίου σετ σεντόνια, σετ παπλωματοθήκη, πάπλωμα και  σετ πετσέτες.',\n",
       "   'description_small_eng': 'paidikh kouberta typwth  beloute me poly malaka nhmata, diastashs 160x220cm.<br />einai idiaitera zesth kai apalh,kataskeuasmenh apo super soft polyestera barous 550gr/m<sup>2</sup>.<br />syndyazetai me idiou sxediou set sentonia, set paplwmatothhkh, paplwma kai  set petsetes.',\n",
       "   'category': 'Παιδικά',\n",
       "   'site_url': 'https://nef-nef.gr/gr/prdid/a5badea0434e444baca6d134cb5232ef/productinfo.aspx'}},\n",
       " {'_index': 'nefnef_es',\n",
       "  '_type': '_doc',\n",
       "  '_id': '874',\n",
       "  '_score': 32.7127,\n",
       "  '_source': {'code': '029391',\n",
       "   'manufacturer': 'NEF NEF HOMEWARE',\n",
       "   'meta_keywords': 'ΠΑΙΔΙΚΗ, ΚΟΥΒΕΡΤΑ, SHERPA, ΜΟΝΗ, NASTY, JUNIOR, ',\n",
       "   'meta_keywords_eng': 'paidikh, kouberta, sherpa, monh, nasty, junior, ',\n",
       "   'name': 'ΠΑΙΔΙΚΗ ΚΟΥΒΕΡΤΑ SHERPA ΜΟΝΗ NASTY ',\n",
       "   'name_eng': 'paidikh kouberta sherpa monh nasty ',\n",
       "   'description_small': 'Παιδική κουβέρτα μονή, διάστασης 160x220cm.<br />Είναι ιδιαίτερα ζεστή και απαλή, κατασκευασμένη από πολυεστέρα και σέρπα στην πίσω πλευρά, βάρους 350gr/m2<sup>2</sup>.<br />Διαθέσιμη σε 2 αποχρώσεις.',\n",
       "   'description_small_eng': 'paidikh kouberta monh, diastashs 160x220cm.<br />einai idiaitera zesth kai apalh, kataskeuasmenh apo polyestera kai serpa sthn pisw pleura, barous 350gr/m2<sup>2</sup>.<br />diathesimh se 2 apoxrwseis.',\n",
       "   'category': 'Παιδικά',\n",
       "   'site_url': 'https://nef-nef.gr/gr/prdid/ad81002e41bd4a8b804436150808e063/productinfo.aspx'}},\n",
       " {'_index': 'nefnef_es',\n",
       "  '_type': '_doc',\n",
       "  '_id': '48',\n",
       "  '_score': 32.072296,\n",
       "  '_ignored': ['description_small.keyword', 'description_small_eng.keyword'],\n",
       "  '_source': {'code': '017275',\n",
       "   'manufacturer': 'NEF NEF HOMEWARE',\n",
       "   'meta_keywords': 'ΜΑΞΙΛΑΡΙ,LATEX,ΠΑΙΔΙΚΟ',\n",
       "   'meta_keywords_eng': 'maxilari,latex,paidiko',\n",
       "   'name': 'ΜΑΞΙΛΑΡΙ LATEX ΠΑΙΔΙΚΟ',\n",
       "   'name_eng': 'maxilari latex paidiko',\n",
       "   'description_small': 'Απολαύστε τον ύπνο σας κάνοντας τη σωστή επιλογή, αγοράζοντας το σωστό για εσάς μαξιλάρι!<p />\\nΈνα πολυτελές ορθοπεδικό, μαλακό-μέτριο μαξιλάρι (διάστασης 60x40x6εκ.) για παιδιά. Με γέμισμα από φυσικό καουτσούκ με κυψέλες αέρα για να αναπνέει και να διώχνει την υγρασία του κεφαλιού. Έχει μεγάλη ελαστικότητα και κατανέμει ομοιόμορφα το βάρος του κεφαλιού.<p />\\nΕίναι υπόαλλεργικό, αντιβακτηριακό, αντιμυκητιακό και συνοδεύεται από κάλυμα που αφαιρείται εύκολα για γρήγορο πλύσιμο. Ένα ιδιαίτερο μαξιλάρι ιδανικό για όσους κοιμούνται ανάσκελα ή πλάγια.<p />\\n\\n<b>Ποιο είναι το κατάλληλο μαξιλάρι για μένα;</b><br />\\nΤα μαξιλάρια χρησιμοποιούνται για την στήριξη του κεφαλιού κατά την διάρκεια του ύπνου και σκοπός τους είναι να διατηρούν την σπονδυλική στήλη σε μια ευθεία.<br />\\nΑνάλογα λοιπόν με τον τρόπο που κοιμόμαστε και τη σκληρότητα του στρώματος που χρησιμοποιούμε επιλέγουμε και το αντίστοιχο μαξιλάρι. Ο κανόνας είναι ότι το μαξιλάρι πρέπει να κρατά την σπονδυλική μας στήλη σε μια ευθεία.<p />\\n\\nΜε λίγα λόγια:<br />\\n• Αν κοιμόμαστε μπρούμυτα χρειαζόμαστε ένα μαλακό-χαμηλό μαξιλάρι.<br />\\n• Αν κοιμόμαστε ανάσκελα χρειαζόμαστε ένα μέτριο μαξιλάρι.<br />\\n• Αν κοιμόμαστε πλάγια χρειαζόμαστε ένα σκληρό «φουσκωτό» μαξιλάρι.<p />\\n\\nΔιατηρήστε τα μαξιλάρια σας σε άριστη κατάσταση για μεγαλύτερο χρονικό διάστημα χρησιμοποιώντας προστατευτικό κάλυμμα μαξιλαριού.</p><p>\\nΓια λόγους υγιεινής δεν γίνονται αποδεκτές αλλαγές στα μαξιλάρια ύπνου.</p><p><br /></p><p>\\n</p><div class=\"oeko-container\">\\n    <img src=\"https://nef-nef.gr/common/banners/OEKOTEX-2.jpg\"/>\\n    <p>Αυτό το προϊόν είναι πιστοποιημένο από την Oeko-Tex τον διεθνή φορέα πιστοποίησης για την ασφάλεια των υφασμάτων και τη βιώσιμη παραγωγή. Το σήμα Oeko-Tex Standard 100 (Ύφασμα Εμπιστοσύνης απαλλαγμένο από επιβλαβείς ουσίες) δηλώνει ότι το προϊόν είναι φιλικό προς τον άνθρωπο και το περιβάλλον, απαλλαγμένο δηλαδή από επικίνδυνες ουσίες όπως φορμαλδεΰδη, βαρέα μέταλλα, παρασιτοκτόνα, αμίνες.</p>\\n</div>',\n",
       "   'description_small_eng': 'apolauste ton ypno sas kanontas th swsth epilogh, agorazontas to swsto gia esas maxilari!<p />\\nena polyteles orthopediko, malako-metrio maxilari (diastashs 60x40x6ek.) gia paidia. me gemisma apo fysiko kaoutsouk me kypseles aera gia na anapneei kai na diwxnei thn ygrasia tou kefaliou. exei megalh elastikothta kai katanemei omoiomorfa to baros tou kefaliou.<p />\\neinai ypoallergiko, antibakthriako, antimykhtiako kai synodeuetai apo kalyma pou afaireitai eukola gia grhgoro plysimo. ena idiaitero maxilari idaniko gia osous koimountai anaskela h plagia.<p />\\n\\n<b>poio einai to katallhlo maxilari gia mena;</b><br />\\nta maxilaria xrhsimopoiountai gia thn sthrixh tou kefaliou kata thn diarkeia tou ypnou kai skopos tous einai na diathroun thn spondylikh sthlh se mia eutheia.<br />\\nanaloga loipon me ton tropo pou koimomaste kai th sklhrothta tou strwmatos pou xrhsimopoioume epilegoume kai to antistoixo maxilari. o kanonas einai oti to maxilari prepei na krata thn spondylikh mas sthlh se mia eutheia.<p />\\n\\nme liga logia:<br />\\n• an koimomaste mproumyta xreiazomaste ena malako-xamhlo maxilari.<br />\\n• an koimomaste anaskela xreiazomaste ena metrio maxilari.<br />\\n• an koimomaste plagia xreiazomaste ena sklhro «fouskwto» maxilari.<p />\\n\\ndiathrhste ta maxilaria sas se aristh katastash gia megalytero xroniko diasthma xrhsimopoiwntas prostateutiko kalymma maxilariou.</p><p>\\ngia logous ygieinhs den ginontai apodektes allages sta maxilaria ypnou.</p><p><br /></p><p>\\n</p><div class=\"oeko-container\">\\n    <img src=\"https://nef-nef.gr/common/banners/oekotex-2.jpg\"/>\\n    <p>auto to proϊon einai pistopoihmeno apo thn oeko-tex ton diethnh forea pistopoihshs gia thn asfaleia twn yfasmatwn kai th biwsimh paragwgh. to shma oeko-tex standard 100 (yfasma empistosynhs apallagmeno apo epiblabeis ousies) dhlwnei oti to proϊon einai filiko pros ton anthrwpo kai to periballon, apallagmeno dhladh apo epikindynes ousies opws formaldeΰdh, barea metalla, parasitoktona, amines.</p>\\n</div>',\n",
       "   'category': 'Υπνοδωμάτιο',\n",
       "   'site_url': 'https://nef-nef.gr/gr/prdid/b3f25d35a80c4f51b8bdb5ff90ea12c2/productinfo.aspx'}},\n",
       " {'_index': 'nefnef_es',\n",
       "  '_type': '_doc',\n",
       "  '_id': '710',\n",
       "  '_score': 30.396286,\n",
       "  '_source': {'code': '029176',\n",
       "   'manufacturer': 'NEF NEF HOMEWARE',\n",
       "   'meta_keywords': 'ΠΑΙΔΙΚΗ, ΠΑΠΛΩΜΑΤΟΘΗΚΗ, ΜΟΝΗ, ΣΕΤ, FRIENDSHIP',\n",
       "   'meta_keywords_eng': 'paidikh, paplwmatothhkh, monh, set, friendship',\n",
       "   'name': 'ΠΑΙΔΙΚΗ ΠΑΠΛΩΜΑΤΟΘΗΚΗ ΜΟΝΗ ΣΕΤ FRIENDSHIP',\n",
       "   'name_eng': 'paidikh paplwmatothhkh monh set friendship',\n",
       "   'description_small': 'Σετ παπλωματοθήκη μονή, 144 κλωστών από 100% βαμβάκι.<br/>Περιλαμβάνει μία παπλωματοθήκη διάστασης 160x240cm και μία μαξιλαροθήκη 52x72cm.<br/>Συνδυάζεται με ιδίου σχεδίου σετ σεντόνια, κουβέρτα και πάπλωμα.',\n",
       "   'description_small_eng': 'set paplwmatothhkh monh, 144 klwstwn apo 100% bambaki.<br/>perilambanei mia paplwmatothhkh diastashs 160x240cm kai mia maxilarothhkh 52x72cm.<br/>syndyazetai me idiou sxediou set sentonia, kouberta kai paplwma.',\n",
       "   'category': 'Παιδικά',\n",
       "   'site_url': 'https://nef-nef.gr/gr/prdid/68c360371ad44920a7d764c5ad5a8922/productinfo.aspx'}},\n",
       " {'_index': 'nefnef_es',\n",
       "  '_type': '_doc',\n",
       "  '_id': '712',\n",
       "  '_score': 30.396286,\n",
       "  '_source': {'code': '029178',\n",
       "   'manufacturer': 'NEF NEF HOMEWARE',\n",
       "   'meta_keywords': 'ΠΑΙΔΙΚΗ, ΠΑΠΛΩΜΑΤΟΘΗΚΗ, ΜΟΝΗ, ΣΕΤ, LANSELOT',\n",
       "   'meta_keywords_eng': 'paidikh, paplwmatothhkh, monh, set, lanselot',\n",
       "   'name': 'ΠΑΙΔΙΚΗ ΠΑΠΛΩΜΑΤΟΘΗΚΗ ΜΟΝΗ ΣΕΤ LANSELOT',\n",
       "   'name_eng': 'paidikh paplwmatothhkh monh set lanselot',\n",
       "   'description_small': 'Σετ παπλωματοθήκη μονή, 144 κλωστών από 100% βαμβάκι.<br/>Περιλαμβάνει μία παπλωματοθήκη διάστασης 160x240cm και μία μαξιλαροθήκη 52x72cm.<br/>Συνδυάζεται με ιδίου σχεδίου σετ σεντόνια, κουβέρτα και πάπλωμα.',\n",
       "   'description_small_eng': 'set paplwmatothhkh monh, 144 klwstwn apo 100% bambaki.<br/>perilambanei mia paplwmatothhkh diastashs 160x240cm kai mia maxilarothhkh 52x72cm.<br/>syndyazetai me idiou sxediou set sentonia, kouberta kai paplwma.',\n",
       "   'category': 'Παιδικά',\n",
       "   'site_url': 'https://nef-nef.gr/gr/prdid/59bafa915795406c888861b5bdfe483c/productinfo.aspx'}},\n",
       " {'_index': 'nefnef_es',\n",
       "  '_type': '_doc',\n",
       "  '_id': '698',\n",
       "  '_score': 29.178242,\n",
       "  '_source': {'code': '029164',\n",
       "   'manufacturer': 'NEF NEF HOMEWARE',\n",
       "   'meta_keywords': 'ΠΑΙΔΙΚΑ, ΣΕΝΤΟΝΙΑ, MONA, ΣΕΤ, FRIENDSHIP',\n",
       "   'meta_keywords_eng': 'paidika, sentonia, mona, set, friendship',\n",
       "   'name': 'ΠΑΙΔΙΚΑ ΣΕΝΤΟΝΙΑ MONA ΣΕΤ FRIENDSHIP',\n",
       "   'name_eng': 'paidika sentonia mona set friendship',\n",
       "   'description_small': 'Σετ παιδικά σεντόνια μονά, από 100% βαμβάκι, 144 κλωστών.<br/>Το σετ περιλαμβάνει ένα πανωσέντονο και ένα κατωσέντονο διάστασης 170x260cm και μία μαξιλαροθήκη 52x72cm.<br/>Συνδυάζεται με ιδίου σχεδίου πάπλωμα, σετ παπλωματοθήκη και κουβέρτα.',\n",
       "   'description_small_eng': 'set paidika sentonia mona, apo 100% bambaki, 144 klwstwn.<br/>to set perilambanei ena panwsentono kai ena katwsentono diastashs 170x260cm kai mia maxilarothhkh 52x72cm.<br/>syndyazetai me idiou sxediou paplwma, set paplwmatothhkh kai kouberta.',\n",
       "   'category': 'Παιδικά',\n",
       "   'site_url': 'https://nef-nef.gr/gr/prdid/e89fb46f06df418fb41dc7dd5566ebbd/productinfo.aspx'}}]"
      ]
     },
     "execution_count": 169,
     "metadata": {},
     "output_type": "execute_result"
    }
   ],
   "source": [
    "run_search('Παιδική')['hits']['hits']"
   ]
  },
  {
   "cell_type": "code",
   "execution_count": null,
   "id": "7ce448bd",
   "metadata": {},
   "outputs": [],
   "source": [
    " results = es.search(index='nefnef_es',size=returned_results, **{\n",
    "\n",
    "                  \"query\": {\n",
    "                    \"bool\": {\n",
    "                        \n",
    "                        \n",
    "                      \"should\": [\n",
    "                          \n",
    "                        { \"match\": { \n",
    "                            \"name_eng\":  {\n",
    "                              \"query\": query,\n",
    "                              \"fuzziness\": \"AUTO:3,5\",\n",
    "                              \"analyzer\": \"my_analyzer\",  \n",
    "                              \"boost\": 3\n",
    "                        }}},\n",
    "                        { \"match\": { \n",
    "                            \"meta_keywords_eng\":  {\n",
    "                              \"query\": query,\n",
    "                              \"fuzziness\": \"AUTO:3,5\",\n",
    "                              \"analyzer\": \"my_analyzer\",                             \n",
    "                              \"boost\": 5\n",
    "                        }}},\n",
    "                        { \"match\": { \n",
    "                            \"description_small_eng\":  {\n",
    "                              \"query\": query,\n",
    "                              \"fuzziness\": \"AUTO:3,5\",\n",
    "                              \"analyzer\": \"my_analyzer\",                            \n",
    "                              \"boost\": 1\n",
    "                        }}},\n",
    "                          \n",
    "                      ]\n",
    "                    \n",
    "                    \n",
    "                    }\n",
    "                  }                                                                   \n",
    "                },                  \n",
    "                                   )\n",
    "        return results"
   ]
  },
  {
   "cell_type": "code",
   "execution_count": 105,
   "id": "26cba501",
   "metadata": {},
   "outputs": [],
   "source": []
  },
  {
   "cell_type": "code",
   "execution_count": 121,
   "id": "6b844198",
   "metadata": {},
   "outputs": [
    {
     "data": {
      "text/plain": [
       "{'query': {'bool': {'should': [{'match': {'name_eng': 'paplwma',\n",
       "      'fuzziness': 'AUTO:3,5',\n",
       "      'analyzer': 'my_analyzer',\n",
       "      'boost': 3}},\n",
       "    {'match': {'meta_keywords_eng': 'paplwma',\n",
       "      'fuzziness': 'AUTO:3,5',\n",
       "      'analyzer': 'my_analyzer',\n",
       "      'boost': 2}},\n",
       "    {'match': {'description_small_eng': 'paplwma',\n",
       "      'fuzziness': 'AUTO:3,5',\n",
       "      'analyzer': 'my_analyzer',\n",
       "      'boost': 1}}]}}}"
      ]
     },
     "execution_count": 121,
     "metadata": {},
     "output_type": "execute_result"
    }
   ],
   "source": [
    "s.query(\"bool\", \n",
    "        should=[Q(\"match\",name_eng=query(\"ΠΑΠΛΩΜΑ\"),fuzziness= \"AUTO:3,5\", analyzer = \"my_analyzer\", boost=3), \n",
    "                Q(\"match\",meta_keywords_eng=query(\"ΠΑΠΛΩΜΑ\"),fuzziness= \"AUTO:3,5\", analyzer = \"my_analyzer\", boost=2),\n",
    "                Q(\"match\",description_small_eng=query(\"ΠΑΠΛΩΜΑ\"),fuzziness= \"AUTO:3,5\", analyzer = \"my_analyzer\", boost=1)\n",
    "               ]\n",
    "       ).to_dict()"
   ]
  },
  {
   "cell_type": "code",
   "execution_count": 110,
   "id": "aff70889",
   "metadata": {},
   "outputs": [
    {
     "data": {
      "text/plain": [
       "{'query': {'bool': {'should': [{'match': {'fuzziness': 'AUTO:3,5',\n",
       "      'name_eng': 'paplwma',\n",
       "      'boost': 3}},\n",
       "    {'match': {'meta_keywords_eng': 'paplwma', 'boost': 2}},\n",
       "    {'match': {'description_small_eng': 'paplwma', 'boost': 1}}]}}}"
      ]
     },
     "execution_count": 110,
     "metadata": {},
     "output_type": "execute_result"
    }
   ],
   "source": [
    "s.query(\n",
    "  Q(\n",
    "    \"match\",\n",
    "    name_eng=query(\"ΠΑΠΛΩΜΑ\"),\n",
    "    boost=3\n",
    "  ) | Q(\n",
    "    'match',\n",
    "    meta_keywords_eng=query(\"ΠΑΠΛΩΜΑ\"), \n",
    "    boost=2\n",
    "  ) | Q(\n",
    "    'match',\n",
    "    description_small_eng=query(\"ΠΑΠΛΩΜΑ\"), \n",
    "    boost=1\n",
    "  )\n",
    ").to_dict()"
   ]
  },
  {
   "cell_type": "code",
   "execution_count": 92,
   "id": "074b05a1",
   "metadata": {},
   "outputs": [],
   "source": [
    "s = Search(using=es, index=\"nefnef_es\") \\\n",
    "    .query(\"match\", name_eng=query(\"ΠΑΠΛΩΜΑ\")) \\\n",
    "    .extra(size=50)\n",
    "\n",
    "res = s.execute()"
   ]
  },
  {
   "cell_type": "code",
   "execution_count": 93,
   "id": "6924e2ef",
   "metadata": {},
   "outputs": [
    {
     "data": {
      "text/plain": [
       "'ΠΑΠΛΩΜΑ ΜΟΝΟ MICROFIBER'"
      ]
     },
     "execution_count": 93,
     "metadata": {},
     "output_type": "execute_result"
    }
   ],
   "source": [
    "res[0].meta.score\n",
    "res[0].name_eng\n",
    "res[0].name"
   ]
  },
  {
   "cell_type": "code",
   "execution_count": 94,
   "id": "9ba6b222",
   "metadata": {},
   "outputs": [],
   "source": [
    "a = res[0]"
   ]
  },
  {
   "cell_type": "code",
   "execution_count": 95,
   "id": "e957338f",
   "metadata": {},
   "outputs": [
    {
     "data": {
      "text/plain": [
       "'https://nef-nef.gr/gr/prdid/cd83a5b3c23540649e1e87f4e7ea49ac/productinfo.aspx'"
      ]
     },
     "execution_count": 95,
     "metadata": {},
     "output_type": "execute_result"
    }
   ],
   "source": [
    "a.site_url"
   ]
  },
  {
   "cell_type": "code",
   "execution_count": 96,
   "id": "c31d4907",
   "metadata": {},
   "outputs": [
    {
     "data": {
      "text/plain": [
       "37"
      ]
     },
     "execution_count": 96,
     "metadata": {},
     "output_type": "execute_result"
    }
   ],
   "source": [
    "len(res)"
   ]
  },
  {
   "cell_type": "code",
   "execution_count": null,
   "id": "353d7436",
   "metadata": {},
   "outputs": [],
   "source": [
    "s.extra()"
   ]
  },
  {
   "cell_type": "code",
   "execution_count": 97,
   "id": "64bdff2b",
   "metadata": {},
   "outputs": [],
   "source": [
    "from elasticsearch_dsl import Q"
   ]
  },
  {
   "cell_type": "code",
   "execution_count": 98,
   "id": "d54ef68b",
   "metadata": {},
   "outputs": [],
   "source": [
    "s = s.query(\n",
    "  Q(\n",
    "    \"match\",\n",
    "    query=\"\",\n",
    "    fields=['product_name', \"short_name\"],\n",
    "    boost=2\n",
    "  ) | Q(\n",
    "    'match',\n",
    "    product_pinyin={'query': '...', 'boost': 1}\n",
    "  )\n",
    ")"
   ]
  },
  {
   "cell_type": "code",
   "execution_count": 101,
   "id": "5164e33d",
   "metadata": {},
   "outputs": [
    {
     "data": {
      "text/plain": [
       "{'query': {'bool': {'should': [{'match': {'query': '',\n",
       "      'fields': ['product_name', 'short_name'],\n",
       "      'boost': 2}},\n",
       "    {'match': {'product_pinyin': {'query': '...', 'boost': 1}}}],\n",
       "   'must': [{'match': {'name_eng': 'paplwma'}}],\n",
       "   'minimum_should_match': 1}},\n",
       " 'size': 50}"
      ]
     },
     "execution_count": 101,
     "metadata": {},
     "output_type": "execute_result"
    }
   ],
   "source": [
    "s.to_dict()"
   ]
  },
  {
   "cell_type": "code",
   "execution_count": null,
   "id": "5cabb96d",
   "metadata": {},
   "outputs": [],
   "source": [
    "s = s.query(\n",
    "  Q(\n",
    "    \"match\",\n",
    "    query=\"\",\n",
    "    fields=['product_name', \"short_name\"],\n",
    "    boost=2\n",
    "  ) | Q(\n",
    "    'match',\n",
    "    product_pinyin={'query': '...', 'boost': 1}\n",
    "  )\n",
    ")"
   ]
  },
  {
   "cell_type": "code",
   "execution_count": null,
   "id": "afeb6789",
   "metadata": {},
   "outputs": [],
   "source": [
    "\"query\": {\n",
    "\"bool\": {\n",
    "\"should\": [\n",
    "{\n",
    "\"multi_match\": {\n",
    "\"query\": \"%s\",\n",
    "\"fields\": [\n",
    "\"product_name\",\n",
    "\"short_name\"\n",
    "],\n",
    "\"boost\": 2\n",
    "}\n",
    "},\n",
    "{\n",
    "\"match\": {\n",
    "\"product_pinyin\": {\n",
    "\"query\": \"%s\",\n",
    "\"boost\": 1\n",
    "}\n",
    "}\n",
    "}\n",
    "]\n",
    "}\n",
    "}"
   ]
  },
  {
   "cell_type": "code",
   "execution_count": null,
   "id": "c24caf24",
   "metadata": {},
   "outputs": [],
   "source": []
  },
  {
   "cell_type": "code",
   "execution_count": null,
   "id": "9a4790a4",
   "metadata": {},
   "outputs": [],
   "source": []
  },
  {
   "cell_type": "code",
   "execution_count": null,
   "id": "31929d70",
   "metadata": {},
   "outputs": [],
   "source": []
  },
  {
   "cell_type": "code",
   "execution_count": null,
   "id": "aabb42b0",
   "metadata": {},
   "outputs": [],
   "source": []
  }
 ],
 "metadata": {
  "kernelspec": {
   "display_name": "Python 3 (ipykernel)",
   "language": "python",
   "name": "python3"
  },
  "language_info": {
   "codemirror_mode": {
    "name": "ipython",
    "version": 3
   },
   "file_extension": ".py",
   "mimetype": "text/x-python",
   "name": "python",
   "nbconvert_exporter": "python",
   "pygments_lexer": "ipython3",
   "version": "3.9.7"
  }
 },
 "nbformat": 4,
 "nbformat_minor": 5
}
